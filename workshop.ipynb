{
  "nbformat": 4,
  "nbformat_minor": 0,
  "metadata": {
    "accelerator": "GPU",
    "colab": {
      "name": "starter_notebook.ipynb",
      "provenance": [],
      "collapsed_sections": []
    },
    "kernelspec": {
      "display_name": "Python 3",
      "language": "python",
      "name": "python3"
    },
    "language_info": {
      "codemirror_mode": {
        "name": "ipython",
        "version": 3
      },
      "file_extension": ".py",
      "mimetype": "text/x-python",
      "name": "python",
      "nbconvert_exporter": "python",
      "pygments_lexer": "ipython3",
      "version": "3.7.10"
    }
  },
  "cells": [
    {
      "cell_type": "markdown",
      "metadata": {
        "id": "Igc5itf-xMGj"
      },
      "source": [
        "# Machine Translation for Translators Workshop\n",
        "Localization summer school '21"
      ]
    },
    {
      "cell_type": "markdown",
      "metadata": {
        "id": "x4fXCKCf36IK"
      },
      "source": [
        "### Note before beginning:\n",
        "\n",
        "#### - This coding template is based on Masakhane's starter notebook (https://github.com/masakhane-io/masakhane-mt)\n",
        "#### - The idea is that you should be able to make minimal changes to this in order to get SOME result for your own translation corpus. \n",
        "#### - The TL;DR: Go to the **\"TODO\"** comments which will tell you what to update to get up and running\n",
        "#### - If you actually want to have a clue what you're doing, read the text and peek at the links\n",
        "#### - With 100 epochs, it should take around 7 hours to run in Google Colab"
      ]
    },
    {
      "cell_type": "markdown",
      "metadata": {
        "id": "l929HimrxS0a"
      },
      "source": [
        "## Retrieve your data & make a parallel corpus\n",
        "\n",
        "In this workshop we will use open corpus available from OPUS repository to train a translation model. We will first download the data, create training, development, testing sets from it and then use JoeyNMT to train a baseline model. \n",
        "\n",
        "In the next cell, you need to set the languages you want to work with and specify which corpus you want to use to train. \n",
        "\n",
        "To select a corpus go to https://opus.nlpl.eu/, enter your language pair and select one that you think is more appropriate (size, domain)"
      ]
    },
    {
      "cell_type": "code",
      "metadata": {
        "collapsed": true,
        "id": "Cn3tgQLzUxwn"
      },
      "source": [
        "# TODO: Set your source and target languages. Keep in mind, these traditionally use language codes as found here:\n",
        "# These will also become the suffix's of all vocab and corpus files used throughout\n",
        "import os\n",
        "source_language = \"en\"\n",
        "target_language = \"tr\"\n",
        "opus_corpus = \"TED2020\" \n",
        "lc = False  # If True, lowercase the data.\n",
        "seed = 42  # Random seed for shuffling.\n",
        "tag = \"baseline\" # Give a unique name to your folder - this is to ensure you don't rewrite any models you've already submitted\n",
        "\n",
        "os.environ[\"src\"] = source_language # Sets them in bash as well, since we often use bash scripts\n",
        "os.environ[\"tgt\"] = target_language\n",
        "os.environ[\"corpus\"] = opus_corpus\n",
        "os.environ[\"tag\"] = tag"
      ],
      "execution_count": 1,
      "outputs": []
    },
    {
      "cell_type": "code",
      "metadata": {
        "colab": {
          "base_uri": "https://localhost:8080/"
        },
        "id": "DO5IY_RywQyA",
        "outputId": "43dc75ad-7aea-4444-eef7-38ad3da457c2"
      },
      "source": [
        "# This will save it to a folder in our gdrive instead!\n",
        "from google.colab import drive\n",
        "drive.mount('/content/drive')\n",
        "\n",
        "!mkdir -p \"/content/drive/My Drive/mt-workshop/$src-$tgt-$tag\"\n",
        "os.environ[\"gdrive_path\"] = \"/content/drive/My Drive/mt-workshop/%s-%s-%s\" % (source_language, target_language, tag)\n",
        "\n",
        "!echo $gdrive_path"
      ],
      "execution_count": 2,
      "outputs": [
        {
          "output_type": "stream",
          "text": [
            "Mounted at /content/drive\n",
            "/content/drive/My Drive/mt-workshop/en-tr-baseline\n"
          ],
          "name": "stdout"
        }
      ]
    },
    {
      "cell_type": "code",
      "metadata": {
        "collapsed": true,
        "id": "gA75Fs9ys8Y9",
        "colab": {
          "base_uri": "https://localhost:8080/"
        },
        "outputId": "3951a9ee-79e8-483e-edb6-48f68053ff6c"
      },
      "source": [
        "# Install opus-tools (Warning! This is not really python)\n",
        "! pip install opustools-pkg"
      ],
      "execution_count": 3,
      "outputs": [
        {
          "output_type": "stream",
          "text": [
            "Collecting opustools-pkg\n",
            "  Downloading opustools_pkg-0.0.52-py3-none-any.whl (80 kB)\n",
            "\u001b[?25l\r\u001b[K     |████                            | 10 kB 27.7 MB/s eta 0:00:01\r\u001b[K     |████████                        | 20 kB 33.2 MB/s eta 0:00:01\r\u001b[K     |████████████▏                   | 30 kB 21.3 MB/s eta 0:00:01\r\u001b[K     |████████████████▏               | 40 kB 17.7 MB/s eta 0:00:01\r\u001b[K     |████████████████████▎           | 51 kB 8.1 MB/s eta 0:00:01\r\u001b[K     |████████████████████████▎       | 61 kB 9.5 MB/s eta 0:00:01\r\u001b[K     |████████████████████████████▎   | 71 kB 8.9 MB/s eta 0:00:01\r\u001b[K     |████████████████████████████████| 80 kB 5.7 MB/s \n",
            "\u001b[?25hInstalling collected packages: opustools-pkg\n",
            "Successfully installed opustools-pkg-0.0.52\n"
          ],
          "name": "stdout"
        }
      ]
    },
    {
      "cell_type": "code",
      "metadata": {
        "collapsed": true,
        "id": "xq-tDZVks7ZD",
        "colab": {
          "base_uri": "https://localhost:8080/"
        },
        "outputId": "1df26398-5388-4e38-e4d3-e43ac0f5629e"
      },
      "source": [
        "# Downloading our corpus \n",
        "! opus_read -d $corpus -s $src -t $tgt -wm moses -w $corpus.$src $corpus.$tgt -q\n",
        "\n",
        "# Extract the corpus file\n",
        "! gunzip ${corpus}_latest_xml_$src-$tgt.xml.gz"
      ],
      "execution_count": 4,
      "outputs": [
        {
          "output_type": "stream",
          "text": [
            "\n",
            "Alignment file /proj/nlpl/data/OPUS/TED2020/latest/xml/en-tr.xml.gz not found. The following files are available for downloading:\n",
            "\n",
            "   2 MB https://object.pouta.csc.fi/OPUS-TED2020/v1/xml/en-tr.xml.gz\n",
            "  47 MB https://object.pouta.csc.fi/OPUS-TED2020/v1/xml/en.zip\n",
            "  37 MB https://object.pouta.csc.fi/OPUS-TED2020/v1/xml/tr.zip\n",
            "\n",
            "  86 MB Total size\n",
            "./TED2020_latest_xml_en-tr.xml.gz ... 100% of 2 MB\n",
            "./TED2020_latest_xml_en.zip ... 100% of 47 MB\n",
            "./TED2020_latest_xml_tr.zip ... 100% of 37 MB\n"
          ],
          "name": "stdout"
        }
      ]
    },
    {
      "cell_type": "code",
      "metadata": {
        "id": "Sazl7hv9xZFg"
      },
      "source": [
        "# Read the corpus into python lists\n",
        "source_file = opus_corpus + '.' + source_language\n",
        "target_file = opus_corpus + '.' + target_language\n",
        "\n",
        "src_all = [sentence.strip() for sentence in open(source_file).readlines()]\n",
        "tgt_all = [sentence.strip() for sentence in open(target_file).readlines()]"
      ],
      "execution_count": 5,
      "outputs": []
    },
    {
      "cell_type": "code",
      "metadata": {
        "colab": {
          "base_uri": "https://localhost:8080/"
        },
        "id": "gjcOBlYMxxTC",
        "outputId": "71fffa11-d629-4780-94fb-c1b511acb6b4"
      },
      "source": [
        "# Let's take a peek at the files\n",
        "print(\"Source size:\", len(src_all))\n",
        "print(\"Target size:\", len(tgt_all))\n",
        "print(\"--------\")\n",
        "\n",
        "peek_size = 5\n",
        "for i in range(peek_size):\n",
        "  print(\"Sent #\", i)\n",
        "  print(\"SRC:\", src_all[i])\n",
        "  print(\"TGT:\", tgt_all[i])\n",
        "  print(\"---------\")"
      ],
      "execution_count": 6,
      "outputs": [
        {
          "output_type": "stream",
          "text": [
            "Source size: 374378\n",
            "Target size: 374378\n",
            "--------\n",
            "Sent # 0\n",
            "SRC: Thank you so much , Chris .\n",
            "TGT: Çok teşekkür ederim Chris .\n",
            "---------\n",
            "Sent # 1\n",
            "SRC: And it 's truly a great honor to have the opportunity to come to this stage twice ; I 'm extremely grateful .\n",
            "TGT: Bu sahnede ikinci kez yer alma fırsatına sahip olmak gerçekten büyük bir onur . Çok minnettarım .\n",
            "---------\n",
            "Sent # 2\n",
            "SRC: I have been blown away by this conference , and I want to thank all of you for the many nice comments about what I had to say the other night .\n",
            "TGT: Bu konferansta çok mutlu oldum , ve anlattıklarımla ilgili güzel yorumlarınız için sizlere çok teşekkür ederim .\n",
            "---------\n",
            "Sent # 3\n",
            "SRC: And I say that sincerely , partly because ( Mock sob ) I need that .\n",
            "TGT: Bunu içtenlikle söylüyorum , çünkü ... ( Ağlama taklidi ) Buna ihtiyacım var .\n",
            "---------\n",
            "Sent # 4\n",
            "SRC: ( Laughter ) Put yourselves in my position .\n",
            "TGT: ( Kahkahalar ) Kendinizi benim yerime koyun !\n",
            "---------\n"
          ],
          "name": "stdout"
        }
      ]
    },
    {
      "cell_type": "markdown",
      "metadata": {
        "id": "YkuK3B4p2AkN"
      },
      "source": [
        "## Making training, development and testing sets\n",
        "\n",
        "We need to pick training, development and testing sets from our corpus. Training set will contain the sentences that we'll teach our model. Development set will be used to see how our model is progressing during the training. And finally, testing set will be used to evaluate the model.\n",
        "\n",
        "You can optionally load your own testing set. "
      ]
    },
    {
      "cell_type": "code",
      "metadata": {
        "colab": {
          "base_uri": "https://localhost:8080/"
        },
        "id": "VkcE9T75y9za",
        "outputId": "5a45acc5-04ac-4334-f53b-2518fd0c6f4c"
      },
      "source": [
        "# TODO: Determine ratios of each set\n",
        "all_size = len(src_all)\n",
        "dev_size = 1000\n",
        "test_size = 1000\n",
        "train_size = all_size - test_size - dev_size\n",
        "\n",
        "src_train = src_all[0:train_size]\n",
        "tgt_train = tgt_all[0:train_size]\n",
        "\n",
        "src_dev = src_all[train_size:train_size+dev_size]\n",
        "tgt_dev = tgt_all[train_size:train_size+dev_size]\n",
        "\n",
        "src_test = src_all[train_size+dev_size:all_size]\n",
        "tgt_test = tgt_all[train_size+dev_size:all_size]\n",
        "\n",
        "print(\"Set sizes\")\n",
        "print(\"All:\", len(src_all))\n",
        "print(\"Train:\", len(src_train))\n",
        "print(\"Dev:\", len(src_dev))\n",
        "print(\"Test:\", len(src_test))"
      ],
      "execution_count": 8,
      "outputs": [
        {
          "output_type": "stream",
          "text": [
            "Set sizes\n",
            "All: 374378\n",
            "Train: 372378\n",
            "Dev: 1000\n",
            "Test: 1000\n"
          ],
          "name": "stdout"
        }
      ]
    },
    {
      "cell_type": "markdown",
      "metadata": {
        "id": "AaE77Tcppex9"
      },
      "source": [
        "# Preprocessing the Data into Subword BPE Tokens\n",
        "\n",
        "- One of the most powerful improvements for neural machine translation is using BPE tokenization [ (Sennrich, 2015) ](https://arxiv.org/abs/1508.07909).\n",
        "\n",
        "- BPE tokenization limits the number of vocabulary into a certain size by smartly dividing words into subwords\n",
        "\n",
        "- This is especially useful for agglutinative languages (like Turkish) where vocabulary is effectively endless. \n",
        "\n",
        "- Below you have the scripts for doing BPE tokenization of our data. We use bpemb library that has pre-trained BPE models to convert our data into subwords."
      ]
    },
    {
      "cell_type": "code",
      "metadata": {
        "colab": {
          "base_uri": "https://localhost:8080/"
        },
        "id": "8xYKgReL6A76",
        "outputId": "b61b48f6-873b-4c78-9b45-14e5f81071be"
      },
      "source": [
        "! pip install bpemb\n",
        "from bpemb import BPEmb\n",
        "\n",
        "BPE_VOCAB_SIZE = 5000\n",
        "bpemb_src = BPEmb(lang=source_language, vs=BPE_VOCAB_SIZE, segmentation_only=True, preprocess=False)\n",
        "bpemb_tgt = BPEmb(lang=target_language, vs=BPE_VOCAB_SIZE, segmentation_only=True, preprocess=False)"
      ],
      "execution_count": 9,
      "outputs": [
        {
          "output_type": "stream",
          "text": [
            "Collecting bpemb\n",
            "  Downloading bpemb-0.3.3-py3-none-any.whl (19 kB)\n",
            "Requirement already satisfied: tqdm in /usr/local/lib/python3.7/dist-packages (from bpemb) (4.41.1)\n",
            "Requirement already satisfied: gensim in /usr/local/lib/python3.7/dist-packages (from bpemb) (3.6.0)\n",
            "Collecting sentencepiece\n",
            "  Downloading sentencepiece-0.1.96-cp37-cp37m-manylinux_2_17_x86_64.manylinux2014_x86_64.whl (1.2 MB)\n",
            "\u001b[K     |████████████████████████████████| 1.2 MB 10.0 MB/s \n",
            "\u001b[?25hRequirement already satisfied: numpy in /usr/local/lib/python3.7/dist-packages (from bpemb) (1.19.5)\n",
            "Requirement already satisfied: requests in /usr/local/lib/python3.7/dist-packages (from bpemb) (2.23.0)\n",
            "Requirement already satisfied: smart-open>=1.2.1 in /usr/local/lib/python3.7/dist-packages (from gensim->bpemb) (5.1.0)\n",
            "Requirement already satisfied: six>=1.5.0 in /usr/local/lib/python3.7/dist-packages (from gensim->bpemb) (1.15.0)\n",
            "Requirement already satisfied: scipy>=0.18.1 in /usr/local/lib/python3.7/dist-packages (from gensim->bpemb) (1.4.1)\n",
            "Requirement already satisfied: certifi>=2017.4.17 in /usr/local/lib/python3.7/dist-packages (from requests->bpemb) (2021.5.30)\n",
            "Requirement already satisfied: chardet<4,>=3.0.2 in /usr/local/lib/python3.7/dist-packages (from requests->bpemb) (3.0.4)\n",
            "Requirement already satisfied: idna<3,>=2.5 in /usr/local/lib/python3.7/dist-packages (from requests->bpemb) (2.10)\n",
            "Requirement already satisfied: urllib3!=1.25.0,!=1.25.1,<1.26,>=1.21.1 in /usr/local/lib/python3.7/dist-packages (from requests->bpemb) (1.24.3)\n",
            "Installing collected packages: sentencepiece, bpemb\n",
            "Successfully installed bpemb-0.3.3 sentencepiece-0.1.96\n",
            "downloading https://nlp.h-its.org/bpemb/en/en.wiki.bpe.vs5000.model\n"
          ],
          "name": "stdout"
        },
        {
          "output_type": "stream",
          "text": [
            "100%|██████████| 315918/315918 [00:00<00:00, 557183.59B/s]\n"
          ],
          "name": "stderr"
        },
        {
          "output_type": "stream",
          "text": [
            "downloading https://nlp.h-its.org/bpemb/tr/tr.wiki.bpe.vs5000.model\n"
          ],
          "name": "stdout"
        },
        {
          "output_type": "stream",
          "text": [
            "100%|██████████| 315775/315775 [00:00<00:00, 713720.23B/s]\n"
          ],
          "name": "stderr"
        }
      ]
    },
    {
      "cell_type": "code",
      "metadata": {
        "colab": {
          "base_uri": "https://localhost:8080/"
        },
        "id": "i_RWTDq169WQ",
        "outputId": "e2c68f65-1b1a-4b3b-de0a-e8383b822473"
      },
      "source": [
        "# Testing BPE encoding\n",
        "encoded_tokens = bpemb_src.encode(\"This is a test sentence to demonstrate how BPE encoding works for our source language.\")\n",
        "print(encoded_tokens)\n",
        "\n",
        "encoded_string = \" \".join(encoded_tokens)\n",
        "print(encoded_string)\n",
        "\n",
        "decoded_string = bpemb_src.decode(encoded_tokens)\n",
        "print(decoded_string)"
      ],
      "execution_count": 17,
      "outputs": [
        {
          "output_type": "stream",
          "text": [
            "['▁', 'T', 'h', 'is', '▁is', '▁a', '▁test', '▁sent', 'ence', '▁to', '▁demonstr', 'ate', '▁how', '▁', 'BPE', '▁enc', 'od', 'ing', '▁works', '▁for', '▁our', '▁source', '▁language', '.']\n",
            "▁ T h is ▁is ▁a ▁test ▁sent ence ▁to ▁demonstr ate ▁how ▁ BPE ▁enc od ing ▁works ▁for ▁our ▁source ▁language .\n",
            "This is a test sentence to demonstrate how BPE encoding works for our source language.\n"
          ],
          "name": "stdout"
        }
      ]
    },
    {
      "cell_type": "code",
      "metadata": {
        "id": "HMMbGLEX8pct"
      },
      "source": [
        "# Shortcut functions to encode and decode\n",
        "def encode_bpe(string, lang, to_lower=True):\n",
        "  if to_lower:\n",
        "    string = string.lower()\n",
        "  if lang == source_language:\n",
        "    return \" \".join(bpemb_src.encode(string))\n",
        "  elif lang == target_language:\n",
        "    return \" \".join(bpemb_tgt.encode(string))\n",
        "  else:\n",
        "    return \"\"\n",
        "\n",
        "def decode_bpe(string, lang):\n",
        "  tokens = string.strip().split()\n",
        "  if lang == source_language:\n",
        "    return bpemb_src.decode(tokens)\n",
        "  elif lang == target_language:\n",
        "    return bpemb_tgt.decode(tokens)\n",
        "  else:\n",
        "    return \"\""
      ],
      "execution_count": 10,
      "outputs": []
    },
    {
      "cell_type": "code",
      "metadata": {
        "id": "1fMMGYQ27ZUN"
      },
      "source": [
        "# Let's encode all our sets with BPE\n",
        "src_train_bpe = [encode_bpe(sentence, source_language) for sentence in src_train]\n",
        "tgt_train_bpe = [encode_bpe(sentence, target_language) for sentence in tgt_train]\n",
        "\n",
        "src_dev_bpe = [encode_bpe(sentence, source_language) for sentence in src_dev]\n",
        "tgt_dev_bpe = [encode_bpe(sentence, target_language) for sentence in tgt_dev]\n",
        "\n",
        "src_test_bpe = [encode_bpe(sentence, source_language) for sentence in src_test]\n",
        "tgt_test_bpe = [encode_bpe(sentence, target_language) for sentence in tgt_test]"
      ],
      "execution_count": 11,
      "outputs": []
    },
    {
      "cell_type": "code",
      "metadata": {
        "id": "IRQ7hNIS0D0z"
      },
      "source": [
        "# Now let's write all our sets into separate files\n",
        "\n",
        "with open(\"train.\"+source_language, \"w\") as src_file, open(\"train.\"+target_language, \"w\") as tgt_file:\n",
        "  for s, t in zip(src_train, tgt_train):\n",
        "    src_file.write(s+\"\\n\")\n",
        "    tgt_file.write(t+\"\\n\")\n",
        "\n",
        "with open(\"dev.\"+source_language, \"w\") as src_file, open(\"dev.\"+target_language, \"w\") as tgt_file:\n",
        "  for s, t in zip(src_dev, tgt_dev):\n",
        "    src_file.write(s+\"\\n\")\n",
        "    tgt_file.write(t+\"\\n\")\n",
        "\n",
        "with open(\"test.\"+source_language, \"w\") as src_file, open(\"test.\"+target_language, \"w\") as tgt_file:\n",
        "  for s, t in zip(src_test, tgt_test):\n",
        "    src_file.write(s+\"\\n\")\n",
        "    tgt_file.write(t+\"\\n\")\n",
        "\n",
        "with open(\"train.bpe.\"+source_language, \"w\") as src_file, open(\"train.bpe.\"+target_language, \"w\") as tgt_file:\n",
        "  for s, t in zip(src_train_bpe, tgt_train_bpe):\n",
        "    src_file.write(s+\"\\n\")\n",
        "    tgt_file.write(t+\"\\n\")\n",
        "\n",
        "with open(\"dev.bpe.\"+source_language, \"w\") as src_file, open(\"dev.bpe.\"+target_language, \"w\") as tgt_file:\n",
        "  for s, t in zip(src_dev_bpe, tgt_dev_bpe):\n",
        "    src_file.write(s+\"\\n\")\n",
        "    tgt_file.write(t+\"\\n\")\n",
        "\n",
        "with open(\"test.bpe.\"+source_language, \"w\") as src_file, open(\"test.bpe.\"+target_language, \"w\") as tgt_file:\n",
        "  for s, t in zip(src_test_bpe, tgt_test_bpe):\n",
        "    src_file.write(s+\"\\n\")\n",
        "    tgt_file.write(t+\"\\n\")"
      ],
      "execution_count": 12,
      "outputs": []
    },
    {
      "cell_type": "code",
      "metadata": {
        "collapsed": true,
        "id": "hxxBOCA-xXhy",
        "colab": {
          "base_uri": "https://localhost:8080/"
        },
        "outputId": "75594eef-8053-4f99-e1e7-b07c1c54003b"
      },
      "source": [
        "# Doublecheck the files. There should be no extra quotation marks or weird characters.\n",
        "! head -n5 train.*\n",
        "! head -n5 dev.*\n",
        "! head -n5 test.*"
      ],
      "execution_count": 13,
      "outputs": [
        {
          "output_type": "stream",
          "text": [
            "==> train.bpe.en <==\n",
            "▁than k ▁you ▁so ▁much ▁, ▁ch ris ▁.\n",
            "▁and ▁it ▁' s ▁tr u ly ▁a ▁great ▁honor ▁to ▁have ▁the ▁opportun ity ▁to ▁come ▁to ▁this ▁stage ▁twice ▁; ▁i ▁' m ▁extrem ely ▁gr ate ful ▁.\n",
            "▁i ▁have ▁been ▁bl own ▁away ▁by ▁this ▁conference ▁, ▁and ▁i ▁want ▁to ▁than k ▁all ▁of ▁you ▁for ▁the ▁many ▁n ice ▁com ments ▁about ▁what ▁i ▁had ▁to ▁say ▁the ▁other ▁night ▁.\n",
            "▁and ▁i ▁say ▁that ▁s inc er ely ▁, ▁part ly ▁because ▁( ▁m ock ▁so b ▁ ) ▁i ▁need ▁that ▁.\n",
            "▁( ▁la ugh ter ▁ ) ▁put ▁y ours elves ▁in ▁my ▁position ▁.\n",
            "\n",
            "==> train.bpe.tr <==\n",
            "▁çok ▁teş ek kür ▁eder im ▁chris ▁.\n",
            "▁bu ▁sahne de ▁ikinci ▁kez ▁yer ▁al ma ▁fır sat ına ▁sahip ▁olmak ▁ger ç ekten ▁büyük ▁bir ▁onur ▁. ▁çok ▁min net tar ım ▁.\n",
            "▁bu ▁konfer ans ta ▁çok ▁mut lu ▁ol d um ▁, ▁ve ▁anlat t ıkları m la ▁ilgili ▁güzel ▁yorum ların ız ▁için ▁s iz lere ▁çok ▁teş ek kür ▁eder im ▁.\n",
            "▁bunu ▁iç ten likle ▁söy l üyor um ▁, ▁çünkü ▁... ▁( ▁ağ lama ▁tak li di ▁) ▁buna ▁ihtiy ac ım ▁var ▁.\n",
            "▁( ▁kah k ah alar ▁) ▁kend in izi ▁benim ▁yer ime ▁koy un ▁ !\n",
            "\n",
            "==> train.en <==\n",
            "Thank you so much , Chris .\n",
            "And it 's truly a great honor to have the opportunity to come to this stage twice ; I 'm extremely grateful .\n",
            "I have been blown away by this conference , and I want to thank all of you for the many nice comments about what I had to say the other night .\n",
            "And I say that sincerely , partly because ( Mock sob ) I need that .\n",
            "( Laughter ) Put yourselves in my position .\n",
            "\n",
            "==> train.tr <==\n",
            "Çok teşekkür ederim Chris .\n",
            "Bu sahnede ikinci kez yer alma fırsatına sahip olmak gerçekten büyük bir onur . Çok minnettarım .\n",
            "Bu konferansta çok mutlu oldum , ve anlattıklarımla ilgili güzel yorumlarınız için sizlere çok teşekkür ederim .\n",
            "Bunu içtenlikle söylüyorum , çünkü ... ( Ağlama taklidi ) Buna ihtiyacım var .\n",
            "( Kahkahalar ) Kendinizi benim yerime koyun !\n",
            "==> dev.bpe.en <==\n",
            "▁it ▁' s ▁a ▁very ▁big ▁signal ▁; ▁it ▁' s ▁sent ▁to ▁the ▁bra in ▁says ▁, ▁\" ▁go ▁and ▁e at ▁. ▁\"\n",
            "▁you ▁have ▁stop ▁sign als ▁- - ▁we ▁have ▁up ▁to ▁eight ▁stop ▁sign als ▁.\n",
            "▁at ▁least ▁in ▁my ▁case ▁, ▁they ▁are ▁not ▁list ened ▁to ▁.\n",
            "▁( ▁la ugh ter ▁ ) ▁so ▁what ▁happ ens ▁if ▁the ▁big ▁bra in ▁in ▁the ▁integr ation ▁over r ides ▁the ▁signal ▁ ?\n",
            "▁so ▁if ▁you ▁over r ide ▁the ▁hun ger ▁signal ▁, ▁you ▁can ▁have ▁a ▁dis order ▁, ▁which ▁is ▁called ▁an ore x ia ▁.\n",
            "\n",
            "==> dev.bpe.tr <==\n",
            "▁bu ▁çok ▁güçlü ▁bir ▁sin yal dir ▁. ▁bey ine ▁gider ▁ve ▁der ▁ki ▁, ▁\" ▁git ▁ve ▁ye ▁. ▁\"\n",
            "▁ayrıca ▁dur ▁sin yal leri ▁de ▁vardır . ▁hemen ▁hemen ▁sekiz ▁tane ▁farklı ▁dur ▁sin yal imiz ▁var ▁.\n",
            "▁ama ▁benim ▁g ib iler ▁bu ▁sin yal leri ▁pek ▁de ▁din lem iyor lar ▁.\n",
            "▁( ▁gül üş meler ▁) ▁p eki ▁, ▁eğer ▁büyük ▁bey in ▁bu ▁gönder ilen ▁sin yal i ▁gör mez den ▁gelir se ▁ne ▁olur ▁ ?\n",
            "▁eğer ▁aç lık ▁sin yal ini ▁gör mez den ▁gelir sen iz ▁an or ek si ▁den en ▁hast alı ğa ▁tut ulur sun uz ▁.\n",
            "\n",
            "==> dev.en <==\n",
            "It 's a very big signal ; it 's sent to the brain says , \" Go and eat . \"\n",
            "You have stop signals -- we have up to eight stop signals .\n",
            "At least in my case , they are not listened to .\n",
            "( Laughter ) So what happens if the big brain in the integration overrides the signal ?\n",
            "So if you override the hunger signal , you can have a disorder , which is called anorexia .\n",
            "\n",
            "==> dev.tr <==\n",
            "Bu çok güçlü bir sinyaldir . Beyine gider ve der ki , \" Git ve ye . \"\n",
            "Ayrıca dur sinyalleri de vardır. hemen hemen sekiz tane farklı dur sinyalimiz var .\n",
            "Ama benim gibiler bu sinyalleri pek de dinlemiyorlar .\n",
            "( Gülüşmeler ) Peki , eğer büyük beyin bu gönderilen sinyali görmezden gelirse ne olur ?\n",
            "Eğer açlık sinyalini görmezden gelirseniz anoreksi denen hastalığa tutulursunuz .\n",
            "==> test.bpe.en <==\n",
            "▁it ▁' s ▁something ▁called ▁the ▁re ward ▁sched ule ▁.\n",
            "▁and ▁by ▁this ▁, ▁i ▁mean ▁look ing ▁at ▁what ▁mill ions ▁upon ▁mill ions ▁of ▁people ▁have ▁done ▁and ▁care ful ly ▁cal ib r ating ▁the ▁rate ▁, ▁the ▁nature ▁, ▁the ▁type ▁, ▁the ▁int ensity ▁of ▁re wards ▁in ▁games ▁to ▁keep ▁them ▁eng aged ▁over ▁st ag ger ing ▁amount s ▁of ▁time ▁and ▁effort ▁.\n",
            "▁now ▁, ▁to ▁t ry ▁and ▁expl ain ▁this ▁in ▁s ort ▁of ▁real ▁terms ▁, ▁i ▁want ▁to ▁talk ▁about ▁a ▁kind ▁of ▁t ask ▁that ▁might ▁fall ▁to ▁you ▁in ▁so ▁many ▁games ▁.\n",
            "▁go ▁and ▁get ▁a ▁certain ▁amount ▁of ▁a ▁certain ▁little ▁game - y ▁it em ▁.\n",
            "▁let ▁' s ▁say ▁, ▁for ▁the ▁s ake ▁of ▁arg ument ▁, ▁my ▁mission ▁is ▁to ▁get ▁ 15 ▁p ies ▁and ▁i ▁can ▁get ▁ 15 ▁p ies ▁by ▁kill ing ▁these ▁c ute ▁, ▁little ▁mon st ers ▁.\n",
            "\n",
            "==> test.bpe.tr <==\n",
            "▁ödül ▁tak v imi ▁den iyor ▁.\n",
            "▁bununla ▁, ▁milyon lar ca ▁insan ın ▁ne ▁yaptı ğına ▁ve ▁sür es iz ▁zaman ▁ve ▁ç aba ▁har c ay arak ▁oyun lara ▁bağlı ▁kal malar ını ▁sağlayan ▁ödül lerin ▁türü ▁, ▁çeş idi ▁ve ▁ölç üs ünün ▁ay ar lan masına ▁dikkat le ▁bak mayı ▁k ast ed iyor um ▁.\n",
            "▁şim di ▁, ▁bunu ▁gerçek ▁anlam da ▁den em ek ▁ve ▁açıklam ak ▁için ▁birçok ▁oy unda ▁karşılaş abilece ğin iz ▁bir ▁görev ▁hakkında ▁konuş mak ▁ist iyor um ▁.\n",
            "▁gi di p ▁küçük ▁bir ▁oyun ▁nes n esinden ▁belirli ▁miktar da ▁getir in ▁.\n",
            "▁örnek ▁olması ▁için ▁far z ed el im ▁ki ▁benim ▁görev im ▁ 15 ▁tane ▁ç ör ek ▁getir mek ▁ve ▁ben ▁ 15 ▁tane ▁ç ör eği ▁şir in ▁, ▁küçük ▁can av ar ları ▁öldür erek ▁getir ebilir im ▁.\n",
            "\n",
            "==> test.en <==\n",
            "It 's something called the reward schedule .\n",
            "And by this , I mean looking at what millions upon millions of people have done and carefully calibrating the rate , the nature , the type , the intensity of rewards in games to keep them engaged over staggering amounts of time and effort .\n",
            "Now , to try and explain this in sort of real terms , I want to talk about a kind of task that might fall to you in so many games .\n",
            "Go and get a certain amount of a certain little game-y item .\n",
            "Let 's say , for the sake of argument , my mission is to get 15 pies and I can get 15 pies by killing these cute , little monsters .\n",
            "\n",
            "==> test.tr <==\n",
            "Ödül Takvimi deniyor .\n",
            "Bununla , milyonlarca insanın ne yaptığına ve süresiz zaman ve çaba harcayarak oyunlara bağlı kalmalarını sağlayan ödüllerin türü , çeşidi ve ölçüsünün ayarlanmasına dikkatle bakmayı kastediyorum .\n",
            "Şimdi , bunu gerçek anlamda denemek ve açıklamak için birçok oyunda karşılaşabileceğiniz bir görev hakkında konuşmak istiyorum .\n",
            "Gidip küçük bir oyun nesnesinden belirli miktarda getirin .\n",
            "Örnek olması için farzedelim ki benim görevim 15 tane çörek getirmek ve ben 15 tane çöreği şirin , küçük canavarları öldürerek getirebilirim .\n"
          ],
          "name": "stdout"
        }
      ]
    },
    {
      "cell_type": "code",
      "metadata": {
        "collapsed": true,
        "id": "IlMitUHR8Qy-",
        "colab": {
          "base_uri": "https://localhost:8080/"
        },
        "outputId": "593e67cf-6fd0-437b-c3f3-f5991f564715"
      },
      "source": [
        "# If creating data for the first time, move all prepared data to the mounted location in google drive\n",
        "! mkdir \"$gdrive_path\"/data\n",
        "! cp train.* \"$gdrive_path\"/data\n",
        "! cp test.* \"$gdrive_path\"/data\n",
        "! cp dev.* \"$gdrive_path\"/data\n",
        "! ls \"$gdrive_path\"/data  #See the contents of the drive directory"
      ],
      "execution_count": 22,
      "outputs": [
        {
          "output_type": "stream",
          "text": [
            "dev.bpe.en  dev.en  test.bpe.en  test.en  train.bpe.en\ttrain.en\n",
            "dev.bpe.tr  dev.tr  test.bpe.tr  test.tr  train.bpe.tr\ttrain.tr\n"
          ],
          "name": "stdout"
        }
      ]
    },
    {
      "cell_type": "code",
      "metadata": {
        "id": "LwNhkXPXtFtx"
      },
      "source": [
        "# OR... If continuing from previous run, load files from drive\n",
        "! cp \"$gdrive_path\"/data/dev.* .\n",
        "! cp \"$gdrive_path\"/data/train.* .\n",
        "! cp \"$gdrive_path\"/data/test.* ."
      ],
      "execution_count": 7,
      "outputs": []
    },
    {
      "cell_type": "markdown",
      "metadata": {
        "id": "epeCydmCyS8X"
      },
      "source": [
        "\n",
        "\n",
        "---\n",
        "\n",
        "\n",
        "## Installation of JoeyNMT\n",
        "\n",
        "JoeyNMT is a simple, minimalist NMT package which is useful for learning and teaching. Check out the documentation for JoeyNMT [here](https://joeynmt.readthedocs.io)  "
      ]
    },
    {
      "cell_type": "code",
      "metadata": {
        "collapsed": true,
        "id": "iBRMm4kMxZ8L",
        "colab": {
          "base_uri": "https://localhost:8080/"
        },
        "outputId": "5e79c4e5-43eb-41b1-9387-8bd22ec38959"
      },
      "source": [
        "# Install JoeyNMT\n",
        "! git clone https://github.com/joeynmt/joeynmt.git\n",
        "! cd joeynmt; pip3 install .\n",
        "# Install Pytorch with GPU support v1.7.1.\n",
        "! pip install torch==1.8.0+cu101 -f https://download.pytorch.org/whl/torch_stable.html"
      ],
      "execution_count": 16,
      "outputs": [
        {
          "output_type": "stream",
          "text": [
            "Cloning into 'joeynmt'...\n",
            "remote: Enumerating objects: 3127, done.\u001b[K\n",
            "remote: Counting objects: 100% (176/176), done.\u001b[K\n",
            "remote: Compressing objects: 100% (85/85), done.\u001b[K\n",
            "remote: Total 3127 (delta 101), reused 142 (delta 91), pack-reused 2951\u001b[K\n",
            "Receiving objects: 100% (3127/3127), 8.09 MiB | 12.75 MiB/s, done.\n",
            "Resolving deltas: 100% (2129/2129), done.\n",
            "Processing /content/joeynmt\n",
            "\u001b[33m  DEPRECATION: A future pip version will change local packages to be built in-place without first copying to a temporary directory. We recommend you use --use-feature=in-tree-build to test your packages with this new behavior before it becomes the default.\n",
            "   pip 21.3 will remove support for this functionality. You can find discussion regarding this at https://github.com/pypa/pip/issues/7555.\u001b[0m\n",
            "Requirement already satisfied: future in /usr/local/lib/python3.7/dist-packages (from joeynmt==1.3) (0.16.0)\n",
            "Requirement already satisfied: pillow in /usr/local/lib/python3.7/dist-packages (from joeynmt==1.3) (7.1.2)\n",
            "Collecting numpy==1.20.1\n",
            "  Downloading numpy-1.20.1-cp37-cp37m-manylinux2010_x86_64.whl (15.3 MB)\n",
            "\u001b[K     |████████████████████████████████| 15.3 MB 97 kB/s \n",
            "\u001b[?25hRequirement already satisfied: setuptools>=41.0.0 in /usr/local/lib/python3.7/dist-packages (from joeynmt==1.3) (57.2.0)\n",
            "Collecting torch==1.8.0\n",
            "  Downloading torch-1.8.0-cp37-cp37m-manylinux1_x86_64.whl (735.5 MB)\n",
            "\u001b[K     |████████████████████████████████| 735.5 MB 9.0 kB/s \n",
            "\u001b[?25hRequirement already satisfied: tensorboard>=1.15 in /usr/local/lib/python3.7/dist-packages (from joeynmt==1.3) (2.5.0)\n",
            "Collecting torchtext==0.9.0\n",
            "  Downloading torchtext-0.9.0-cp37-cp37m-manylinux1_x86_64.whl (7.1 MB)\n",
            "\u001b[K     |████████████████████████████████| 7.1 MB 21.8 MB/s \n",
            "\u001b[?25hCollecting sacrebleu>=1.3.6\n",
            "  Downloading sacrebleu-1.5.1-py3-none-any.whl (54 kB)\n",
            "\u001b[K     |████████████████████████████████| 54 kB 3.8 MB/s \n",
            "\u001b[?25hCollecting subword-nmt\n",
            "  Downloading subword_nmt-0.3.7-py2.py3-none-any.whl (26 kB)\n",
            "Requirement already satisfied: matplotlib in /usr/local/lib/python3.7/dist-packages (from joeynmt==1.3) (3.2.2)\n",
            "Requirement already satisfied: seaborn in /usr/local/lib/python3.7/dist-packages (from joeynmt==1.3) (0.11.1)\n",
            "Collecting pyyaml>=5.1\n",
            "  Downloading PyYAML-5.4.1-cp37-cp37m-manylinux1_x86_64.whl (636 kB)\n",
            "\u001b[K     |████████████████████████████████| 636 kB 63.7 MB/s \n",
            "\u001b[?25hCollecting pylint\n",
            "  Downloading pylint-2.9.5-py3-none-any.whl (375 kB)\n",
            "\u001b[K     |████████████████████████████████| 375 kB 56.4 MB/s \n",
            "\u001b[?25hCollecting six==1.12\n",
            "  Downloading six-1.12.0-py2.py3-none-any.whl (10 kB)\n",
            "Collecting wrapt==1.11.1\n",
            "  Downloading wrapt-1.11.1.tar.gz (27 kB)\n",
            "Requirement already satisfied: typing-extensions in /usr/local/lib/python3.7/dist-packages (from torch==1.8.0->joeynmt==1.3) (3.7.4.3)\n",
            "Requirement already satisfied: tqdm in /usr/local/lib/python3.7/dist-packages (from torchtext==0.9.0->joeynmt==1.3) (4.41.1)\n",
            "Requirement already satisfied: requests in /usr/local/lib/python3.7/dist-packages (from torchtext==0.9.0->joeynmt==1.3) (2.23.0)\n",
            "Collecting portalocker==2.0.0\n",
            "  Downloading portalocker-2.0.0-py2.py3-none-any.whl (11 kB)\n",
            "Requirement already satisfied: absl-py>=0.4 in /usr/local/lib/python3.7/dist-packages (from tensorboard>=1.15->joeynmt==1.3) (0.12.0)\n",
            "Requirement already satisfied: google-auth<2,>=1.6.3 in /usr/local/lib/python3.7/dist-packages (from tensorboard>=1.15->joeynmt==1.3) (1.32.1)\n",
            "Requirement already satisfied: google-auth-oauthlib<0.5,>=0.4.1 in /usr/local/lib/python3.7/dist-packages (from tensorboard>=1.15->joeynmt==1.3) (0.4.4)\n",
            "Requirement already satisfied: markdown>=2.6.8 in /usr/local/lib/python3.7/dist-packages (from tensorboard>=1.15->joeynmt==1.3) (3.3.4)\n",
            "Requirement already satisfied: protobuf>=3.6.0 in /usr/local/lib/python3.7/dist-packages (from tensorboard>=1.15->joeynmt==1.3) (3.17.3)\n",
            "Requirement already satisfied: wheel>=0.26 in /usr/local/lib/python3.7/dist-packages (from tensorboard>=1.15->joeynmt==1.3) (0.36.2)\n",
            "Requirement already satisfied: tensorboard-plugin-wit>=1.6.0 in /usr/local/lib/python3.7/dist-packages (from tensorboard>=1.15->joeynmt==1.3) (1.8.0)\n",
            "Requirement already satisfied: werkzeug>=0.11.15 in /usr/local/lib/python3.7/dist-packages (from tensorboard>=1.15->joeynmt==1.3) (1.0.1)\n",
            "Requirement already satisfied: grpcio>=1.24.3 in /usr/local/lib/python3.7/dist-packages (from tensorboard>=1.15->joeynmt==1.3) (1.34.1)\n",
            "Requirement already satisfied: tensorboard-data-server<0.7.0,>=0.6.0 in /usr/local/lib/python3.7/dist-packages (from tensorboard>=1.15->joeynmt==1.3) (0.6.1)\n",
            "Requirement already satisfied: pyasn1-modules>=0.2.1 in /usr/local/lib/python3.7/dist-packages (from google-auth<2,>=1.6.3->tensorboard>=1.15->joeynmt==1.3) (0.2.8)\n",
            "Requirement already satisfied: rsa<5,>=3.1.4 in /usr/local/lib/python3.7/dist-packages (from google-auth<2,>=1.6.3->tensorboard>=1.15->joeynmt==1.3) (4.7.2)\n",
            "Requirement already satisfied: cachetools<5.0,>=2.0.0 in /usr/local/lib/python3.7/dist-packages (from google-auth<2,>=1.6.3->tensorboard>=1.15->joeynmt==1.3) (4.2.2)\n",
            "Requirement already satisfied: requests-oauthlib>=0.7.0 in /usr/local/lib/python3.7/dist-packages (from google-auth-oauthlib<0.5,>=0.4.1->tensorboard>=1.15->joeynmt==1.3) (1.3.0)\n",
            "Requirement already satisfied: importlib-metadata in /usr/local/lib/python3.7/dist-packages (from markdown>=2.6.8->tensorboard>=1.15->joeynmt==1.3) (4.6.1)\n",
            "Requirement already satisfied: pyasn1<0.5.0,>=0.4.6 in /usr/local/lib/python3.7/dist-packages (from pyasn1-modules>=0.2.1->google-auth<2,>=1.6.3->tensorboard>=1.15->joeynmt==1.3) (0.4.8)\n",
            "Requirement already satisfied: certifi>=2017.4.17 in /usr/local/lib/python3.7/dist-packages (from requests->torchtext==0.9.0->joeynmt==1.3) (2021.5.30)\n",
            "Requirement already satisfied: urllib3!=1.25.0,!=1.25.1,<1.26,>=1.21.1 in /usr/local/lib/python3.7/dist-packages (from requests->torchtext==0.9.0->joeynmt==1.3) (1.24.3)\n",
            "Requirement already satisfied: chardet<4,>=3.0.2 in /usr/local/lib/python3.7/dist-packages (from requests->torchtext==0.9.0->joeynmt==1.3) (3.0.4)\n",
            "Requirement already satisfied: idna<3,>=2.5 in /usr/local/lib/python3.7/dist-packages (from requests->torchtext==0.9.0->joeynmt==1.3) (2.10)\n",
            "Requirement already satisfied: oauthlib>=3.0.0 in /usr/local/lib/python3.7/dist-packages (from requests-oauthlib>=0.7.0->google-auth-oauthlib<0.5,>=0.4.1->tensorboard>=1.15->joeynmt==1.3) (3.1.1)\n",
            "Requirement already satisfied: zipp>=0.5 in /usr/local/lib/python3.7/dist-packages (from importlib-metadata->markdown>=2.6.8->tensorboard>=1.15->joeynmt==1.3) (3.5.0)\n",
            "Requirement already satisfied: kiwisolver>=1.0.1 in /usr/local/lib/python3.7/dist-packages (from matplotlib->joeynmt==1.3) (1.3.1)\n",
            "Requirement already satisfied: pyparsing!=2.0.4,!=2.1.2,!=2.1.6,>=2.0.1 in /usr/local/lib/python3.7/dist-packages (from matplotlib->joeynmt==1.3) (2.4.7)\n",
            "Requirement already satisfied: python-dateutil>=2.1 in /usr/local/lib/python3.7/dist-packages (from matplotlib->joeynmt==1.3) (2.8.1)\n",
            "Requirement already satisfied: cycler>=0.10 in /usr/local/lib/python3.7/dist-packages (from matplotlib->joeynmt==1.3) (0.10.0)\n",
            "Collecting astroid<2.7,>=2.6.5\n",
            "  Downloading astroid-2.6.5-py3-none-any.whl (231 kB)\n",
            "\u001b[K     |████████████████████████████████| 231 kB 58.9 MB/s \n",
            "\u001b[?25hCollecting mccabe<0.7,>=0.6\n",
            "  Downloading mccabe-0.6.1-py2.py3-none-any.whl (8.6 kB)\n",
            "Collecting isort<6,>=4.2.5\n",
            "  Downloading isort-5.9.2-py3-none-any.whl (105 kB)\n",
            "\u001b[K     |████████████████████████████████| 105 kB 73.8 MB/s \n",
            "\u001b[?25hRequirement already satisfied: toml>=0.7.1 in /usr/local/lib/python3.7/dist-packages (from pylint->joeynmt==1.3) (0.10.2)\n",
            "Collecting lazy-object-proxy>=1.4.0\n",
            "  Downloading lazy_object_proxy-1.6.0-cp37-cp37m-manylinux1_x86_64.whl (55 kB)\n",
            "\u001b[K     |████████████████████████████████| 55 kB 4.6 MB/s \n",
            "\u001b[?25hCollecting typed-ast<1.5,>=1.4.0\n",
            "  Downloading typed_ast-1.4.3-cp37-cp37m-manylinux1_x86_64.whl (743 kB)\n",
            "\u001b[K     |████████████████████████████████| 743 kB 63.7 MB/s \n",
            "\u001b[?25hRequirement already satisfied: scipy>=1.0 in /usr/local/lib/python3.7/dist-packages (from seaborn->joeynmt==1.3) (1.4.1)\n",
            "Requirement already satisfied: pandas>=0.23 in /usr/local/lib/python3.7/dist-packages (from seaborn->joeynmt==1.3) (1.1.5)\n",
            "Requirement already satisfied: pytz>=2017.2 in /usr/local/lib/python3.7/dist-packages (from pandas>=0.23->seaborn->joeynmt==1.3) (2018.9)\n",
            "Building wheels for collected packages: joeynmt, wrapt\n",
            "  Building wheel for joeynmt (setup.py) ... \u001b[?25l\u001b[?25hdone\n",
            "  Created wheel for joeynmt: filename=joeynmt-1.3-py3-none-any.whl size=85116 sha256=adc9b61570c390f77f9a7a9d45b59ac53118d4fa056544b982fc72b63cb09437\n",
            "  Stored in directory: /tmp/pip-ephem-wheel-cache-5reybypr/wheels/0a/f4/bf/6c9d3b8efbfece6cd209f865be37382b02e7c3584df2e28ca4\n",
            "  Building wheel for wrapt (setup.py) ... \u001b[?25l\u001b[?25hdone\n",
            "  Created wheel for wrapt: filename=wrapt-1.11.1-cp37-cp37m-linux_x86_64.whl size=68447 sha256=22ca6770dbfd72502f270e0a135e6b9cf060d377ae94503d8368c31cae58f4ad\n",
            "  Stored in directory: /root/.cache/pip/wheels/4e/58/9d/da8bad4545585ca52311498ff677647c95c7b690b3040171f8\n",
            "Successfully built joeynmt wrapt\n",
            "Installing collected packages: six, wrapt, typed-ast, numpy, lazy-object-proxy, torch, portalocker, mccabe, isort, astroid, torchtext, subword-nmt, sacrebleu, pyyaml, pylint, joeynmt\n",
            "  Attempting uninstall: six\n",
            "    Found existing installation: six 1.15.0\n",
            "    Uninstalling six-1.15.0:\n",
            "      Successfully uninstalled six-1.15.0\n",
            "  Attempting uninstall: wrapt\n",
            "    Found existing installation: wrapt 1.12.1\n",
            "    Uninstalling wrapt-1.12.1:\n",
            "      Successfully uninstalled wrapt-1.12.1\n",
            "  Attempting uninstall: numpy\n",
            "    Found existing installation: numpy 1.19.5\n",
            "    Uninstalling numpy-1.19.5:\n",
            "      Successfully uninstalled numpy-1.19.5\n",
            "  Attempting uninstall: torch\n",
            "    Found existing installation: torch 1.9.0+cu102\n",
            "    Uninstalling torch-1.9.0+cu102:\n",
            "      Successfully uninstalled torch-1.9.0+cu102\n",
            "  Attempting uninstall: torchtext\n",
            "    Found existing installation: torchtext 0.10.0\n",
            "    Uninstalling torchtext-0.10.0:\n",
            "      Successfully uninstalled torchtext-0.10.0\n",
            "  Attempting uninstall: pyyaml\n",
            "    Found existing installation: PyYAML 3.13\n",
            "    Uninstalling PyYAML-3.13:\n",
            "      Successfully uninstalled PyYAML-3.13\n",
            "\u001b[31mERROR: pip's dependency resolver does not currently take into account all the packages that are installed. This behaviour is the source of the following dependency conflicts.\n",
            "torchvision 0.10.0+cu102 requires torch==1.9.0, but you have torch 1.8.0 which is incompatible.\n",
            "tensorflow 2.5.0 requires numpy~=1.19.2, but you have numpy 1.20.1 which is incompatible.\n",
            "tensorflow 2.5.0 requires six~=1.15.0, but you have six 1.12.0 which is incompatible.\n",
            "tensorflow 2.5.0 requires wrapt~=1.12.1, but you have wrapt 1.11.1 which is incompatible.\n",
            "google-colab 1.0.0 requires six~=1.15.0, but you have six 1.12.0 which is incompatible.\n",
            "google-api-python-client 1.12.8 requires six<2dev,>=1.13.0, but you have six 1.12.0 which is incompatible.\n",
            "google-api-core 1.26.3 requires six>=1.13.0, but you have six 1.12.0 which is incompatible.\n",
            "datascience 0.10.6 requires folium==0.2.1, but you have folium 0.8.3 which is incompatible.\n",
            "albumentations 0.1.12 requires imgaug<0.2.7,>=0.2.5, but you have imgaug 0.2.9 which is incompatible.\u001b[0m\n",
            "Successfully installed astroid-2.6.5 isort-5.9.2 joeynmt-1.3 lazy-object-proxy-1.6.0 mccabe-0.6.1 numpy-1.20.1 portalocker-2.0.0 pylint-2.9.5 pyyaml-5.4.1 sacrebleu-1.5.1 six-1.12.0 subword-nmt-0.3.7 torch-1.8.0 torchtext-0.9.0 typed-ast-1.4.3 wrapt-1.11.1\n",
            "Looking in links: https://download.pytorch.org/whl/torch_stable.html\n",
            "Collecting torch==1.8.0+cu101\n",
            "  Downloading https://download.pytorch.org/whl/cu101/torch-1.8.0%2Bcu101-cp37-cp37m-linux_x86_64.whl (763.5 MB)\n",
            "\u001b[K     |████████████████████████████████| 763.5 MB 14 kB/s \n",
            "\u001b[?25hRequirement already satisfied: typing-extensions in /usr/local/lib/python3.7/dist-packages (from torch==1.8.0+cu101) (3.7.4.3)\n",
            "Requirement already satisfied: numpy in /usr/local/lib/python3.7/dist-packages (from torch==1.8.0+cu101) (1.20.1)\n",
            "Installing collected packages: torch\n",
            "  Attempting uninstall: torch\n",
            "    Found existing installation: torch 1.8.0\n",
            "    Uninstalling torch-1.8.0:\n",
            "      Successfully uninstalled torch-1.8.0\n",
            "\u001b[31mERROR: pip's dependency resolver does not currently take into account all the packages that are installed. This behaviour is the source of the following dependency conflicts.\n",
            "torchvision 0.10.0+cu102 requires torch==1.9.0, but you have torch 1.8.0+cu101 which is incompatible.\u001b[0m\n",
            "Successfully installed torch-1.8.0+cu101\n"
          ],
          "name": "stdout"
        }
      ]
    },
    {
      "cell_type": "code",
      "metadata": {
        "collapsed": true,
        "id": "H-TyjtmXB1mL",
        "colab": {
          "base_uri": "https://localhost:8080/"
        },
        "outputId": "c45c71b7-9fcd-42e6-ea03-2c29c0bd3115"
      },
      "source": [
        "#Move everything important under joeynmt directory\n",
        "os.environ[\"data_path\"] = os.path.join(\"joeynmt\", \"data\", source_language + target_language)\n",
        "\n",
        "# Create directory, move everyone we care about to the correct location\n",
        "! mkdir -p $data_path\n",
        "! cp train.* $data_path\n",
        "! cp test.* $data_path\n",
        "! cp dev.* $data_path\n",
        "! ls $data_path\n",
        "\n",
        "# Create that vocab using build_vocab\n",
        "! sudo chmod 777 joeynmt/scripts/build_vocab.py\n",
        "! joeynmt/scripts/build_vocab.py joeynmt/data/$src$tgt/train.bpe.$src joeynmt/data/$src$tgt/train.bpe.$tgt --output_path joeynmt/data/$src$tgt/vocab.txt\n",
        "\n",
        "# Some output\n",
        "! echo \"Combined BPE Vocab\"\n",
        "! head -n 10 joeynmt/data/$src$tgt/vocab.txt  # Herman\n",
        "\n",
        "# Backup vocab to drive\n",
        "! cp joeynmt/data/$src$tgt/vocab.txt \"$gdrive_path\"/data\n"
      ],
      "execution_count": 17,
      "outputs": [
        {
          "output_type": "stream",
          "text": [
            "dev.bpe.en  dev.en  test.bpe.en  test.en  train.bpe.en\ttrain.en\n",
            "dev.bpe.tr  dev.tr  test.bpe.tr  test.tr  train.bpe.tr\ttrain.tr\n",
            "Combined BPE Vocab\n",
            "774\n",
            "531\n",
            "883\n",
            "6397\n",
            "794\n",
            "431\n",
            "381\n",
            "1414\n",
            "761\n",
            "548\n"
          ],
          "name": "stdout"
        }
      ]
    },
    {
      "cell_type": "markdown",
      "metadata": {
        "id": "Ixmzi60WsUZ8"
      },
      "source": [
        "# Creating the JoeyNMT Config\n",
        "\n",
        "JoeyNMT requires a yaml config. We provide a template below. We've also set a number of defaults with it, that you may play with!\n",
        "\n",
        "- We used Transformer architecture \n",
        "- We set our dropout to reasonably high: 0.3 (recommended in  [(Sennrich, 2019)](https://www.aclweb.org/anthology/P19-1021))\n",
        "\n",
        "Things worth playing with:\n",
        "- The batch size (also recommended to change for low-resourced languages)\n",
        "- The number of epochs (we've set it at 30 just so it runs in about an hour, for testing purposes)\n",
        "- The decoder options (beam_size, alpha)\n",
        "- Evaluation metrics (BLEU versus Crhf4)"
      ]
    },
    {
      "cell_type": "code",
      "metadata": {
        "collapsed": true,
        "id": "PIs1lY2hxMsl"
      },
      "source": [
        "# This creates the config file for our JoeyNMT system. It might seem overwhelming so we've provided a couple of useful parameters you'll need to update\n",
        "# (You can of course play with all the parameters if you'd like!)\n",
        "\n",
        "name = '%s%s' % (source_language, target_language)\n",
        "gdrive_path = os.environ[\"gdrive_path\"]\n",
        "\n",
        "# Create the config\n",
        "config = \"\"\"\n",
        "name: \"{name}_transformer\"\n",
        "\n",
        "data:\n",
        "    src: \"{source_language}\"\n",
        "    trg: \"{target_language}\"\n",
        "    train: \"data/{name}/train.bpe\"\n",
        "    dev:   \"data/{name}/dev.bpe\"\n",
        "    test:  \"data/{name}/test.bpe\"\n",
        "    level: \"bpe\"\n",
        "    lowercase: False\n",
        "    max_sent_length: 100\n",
        "    src_vocab: \"data/{name}/vocab.txt\"\n",
        "    trg_vocab: \"data/{name}/vocab.txt\"\n",
        "\n",
        "testing:\n",
        "    beam_size: 5\n",
        "    alpha: 1.0\n",
        "\n",
        "training:\n",
        "    #load_model: \"models/entr_transformer/1000.ckpt\"\n",
        "    load_model: \"{gdrive_path}/models/{name}_transformer/1000.ckpt\" # if uncommented, load a pre-trained model from this checkpoint\n",
        "    random_seed: 42\n",
        "    optimizer: \"adam\"\n",
        "    normalization: \"tokens\"\n",
        "    adam_betas: [0.9, 0.999] \n",
        "    scheduling: \"plateau\"           # TODO: try switching from plateau to Noam scheduling\n",
        "    patience: 5                     # For plateau: decrease learning rate by decrease_factor if validation score has not improved for this many validation rounds.\n",
        "    learning_rate_factor: 0.5       # factor for Noam scheduler (used with Transformer)\n",
        "    learning_rate_warmup: 1000      # warmup steps for Noam scheduler (used with Transformer)\n",
        "    decrease_factor: 0.7\n",
        "    loss: \"crossentropy\"\n",
        "    learning_rate: 0.0003\n",
        "    learning_rate_min: 0.00000001\n",
        "    weight_decay: 0.0\n",
        "    label_smoothing: 0.1\n",
        "    batch_size: 4096\n",
        "    batch_type: \"token\"\n",
        "    eval_batch_size: 3600\n",
        "    eval_batch_type: \"token\"\n",
        "    batch_multiplier: 1\n",
        "    early_stopping_metric: \"ppl\"\n",
        "    epochs: 30                     # TODO: Decrease for when playing around and checking of working. Around 30 is sufficient to check if its working at all\n",
        "    validation_freq: 1000          # TODO: Set to at least once per epoch.\n",
        "    logging_freq: 100\n",
        "    eval_metric: \"bleu\"\n",
        "    model_dir: \"models/{name}_transformer\"\n",
        "    overwrite: True               # TODO: Set to True if you want to overwrite possibly existing models. \n",
        "    shuffle: True\n",
        "    use_cuda: True\n",
        "    max_output_length: 100\n",
        "    print_valid_sents: [0, 1, 2, 3]\n",
        "    keep_last_ckpts: 3\n",
        "\n",
        "model:\n",
        "    initializer: \"xavier\"\n",
        "    bias_initializer: \"zeros\"\n",
        "    init_gain: 1.0\n",
        "    embed_initializer: \"xavier\"\n",
        "    embed_init_gain: 1.0\n",
        "    tied_embeddings: True\n",
        "    tied_softmax: True\n",
        "    encoder:\n",
        "        type: \"transformer\"\n",
        "        num_layers: 6\n",
        "        num_heads: 4             # TODO: Increase to 8 for larger data.\n",
        "        embeddings:\n",
        "            embedding_dim: 256   # TODO: Increase to 512 for larger data.\n",
        "            scale: True\n",
        "            dropout: 0.2\n",
        "        # typically ff_size = 4 x hidden_size\n",
        "        hidden_size: 256         # TODO: Increase to 512 for larger data.\n",
        "        ff_size: 1024            # TODO: Increase to 2048 for larger data.\n",
        "        dropout: 0.3\n",
        "    decoder:\n",
        "        type: \"transformer\"\n",
        "        num_layers: 6\n",
        "        num_heads: 4              # TODO: Increase to 8 for larger data.\n",
        "        embeddings:\n",
        "            embedding_dim: 256    # TODO: Increase to 512 for larger data.\n",
        "            scale: True\n",
        "            dropout: 0.2\n",
        "        # typically ff_size = 4 x hidden_size\n",
        "        hidden_size: 256         # TODO: Increase to 512 for larger data.\n",
        "        ff_size: 1024            # TODO: Increase to 2048 for larger data.\n",
        "        dropout: 0.3\n",
        "\"\"\".format(name=name, gdrive_path=os.environ[\"gdrive_path\"], source_language=source_language, target_language=target_language)\n",
        "with open(\"joeynmt/configs/transformer_{name}.yaml\".format(name=name),'w') as f:\n",
        "    f.write(config)"
      ],
      "execution_count": 44,
      "outputs": []
    },
    {
      "cell_type": "markdown",
      "metadata": {
        "id": "pIifxE3Qzuvs"
      },
      "source": [
        "# Train the Model\n",
        "\n",
        "This single line of joeynmt runs the training using the config we made above"
      ]
    },
    {
      "cell_type": "code",
      "metadata": {
        "collapsed": true,
        "id": "6ZBPFwT94WpI",
        "colab": {
          "base_uri": "https://localhost:8080/"
        },
        "outputId": "c8be06a9-c20c-41e6-f44a-7bffdf87dd8a"
      },
      "source": [
        "# Train the model\n",
        "# You can press Ctrl-C to stop. And then run the next cell to save your checkpoints! \n",
        "!cd joeynmt; python3 -m joeynmt train configs/transformer_$src$tgt.yaml"
      ],
      "execution_count": 31,
      "outputs": [
        {
          "output_type": "stream",
          "text": [
            "2021-07-28 16:52:38,026 - INFO - root - Hello! This is Joey-NMT (version 1.3).\n",
            "2021-07-28 16:52:38,058 - INFO - joeynmt.data - Loading training data...\n",
            "2021-07-28 16:52:46,845 - INFO - joeynmt.data - Building vocabulary...\n",
            "2021-07-28 16:52:48,172 - INFO - joeynmt.data - Loading dev data...\n",
            "2021-07-28 16:52:48,225 - INFO - joeynmt.data - Loading test data...\n",
            "2021-07-28 16:52:48,238 - INFO - joeynmt.data - Data loaded.\n",
            "2021-07-28 16:52:48,238 - INFO - joeynmt.model - Building an encoder-decoder model...\n",
            "2021-07-28 16:52:48,484 - INFO - joeynmt.model - Enc-dec model built.\n",
            "2021-07-28 16:52:48.642085: I tensorflow/stream_executor/platform/default/dso_loader.cc:53] Successfully opened dynamic library libcudart.so.11.0\n",
            "2021-07-28 16:52:49,639 - INFO - joeynmt.training - Total params: 13372928\n",
            "2021-07-28 16:52:52,915 - INFO - joeynmt.training - Loading model from /content/drive/My Drive/mt-workshop/en-tr-baseline/models/entr_transformer/1000.ckpt\n",
            "2021-07-28 16:52:53,369 - INFO - joeynmt.helpers - cfg.name                           : entr_transformer\n",
            "2021-07-28 16:52:53,370 - INFO - joeynmt.helpers - cfg.data.src                       : en\n",
            "2021-07-28 16:52:53,370 - INFO - joeynmt.helpers - cfg.data.trg                       : tr\n",
            "2021-07-28 16:52:53,370 - INFO - joeynmt.helpers - cfg.data.train                     : data/entr/train.bpe\n",
            "2021-07-28 16:52:53,370 - INFO - joeynmt.helpers - cfg.data.dev                       : data/entr/dev.bpe\n",
            "2021-07-28 16:52:53,370 - INFO - joeynmt.helpers - cfg.data.test                      : data/entr/test.bpe\n",
            "2021-07-28 16:52:53,370 - INFO - joeynmt.helpers - cfg.data.level                     : bpe\n",
            "2021-07-28 16:52:53,370 - INFO - joeynmt.helpers - cfg.data.lowercase                 : False\n",
            "2021-07-28 16:52:53,370 - INFO - joeynmt.helpers - cfg.data.max_sent_length           : 100\n",
            "2021-07-28 16:52:53,370 - INFO - joeynmt.helpers - cfg.data.src_vocab                 : data/entr/vocab.txt\n",
            "2021-07-28 16:52:53,370 - INFO - joeynmt.helpers - cfg.data.trg_vocab                 : data/entr/vocab.txt\n",
            "2021-07-28 16:52:53,370 - INFO - joeynmt.helpers - cfg.testing.beam_size              : 5\n",
            "2021-07-28 16:52:53,370 - INFO - joeynmt.helpers - cfg.testing.alpha                  : 1.0\n",
            "2021-07-28 16:52:53,370 - INFO - joeynmt.helpers - cfg.training.load_model            : /content/drive/My Drive/mt-workshop/en-tr-baseline/models/entr_transformer/1000.ckpt\n",
            "2021-07-28 16:52:53,370 - INFO - joeynmt.helpers - cfg.training.random_seed           : 42\n",
            "2021-07-28 16:52:53,370 - INFO - joeynmt.helpers - cfg.training.optimizer             : adam\n",
            "2021-07-28 16:52:53,371 - INFO - joeynmt.helpers - cfg.training.normalization         : tokens\n",
            "2021-07-28 16:52:53,371 - INFO - joeynmt.helpers - cfg.training.adam_betas            : [0.9, 0.999]\n",
            "2021-07-28 16:52:53,371 - INFO - joeynmt.helpers - cfg.training.scheduling            : plateau\n",
            "2021-07-28 16:52:53,371 - INFO - joeynmt.helpers - cfg.training.patience              : 5\n",
            "2021-07-28 16:52:53,371 - INFO - joeynmt.helpers - cfg.training.learning_rate_factor  : 0.5\n",
            "2021-07-28 16:52:53,371 - INFO - joeynmt.helpers - cfg.training.learning_rate_warmup  : 1000\n",
            "2021-07-28 16:52:53,371 - INFO - joeynmt.helpers - cfg.training.decrease_factor       : 0.7\n",
            "2021-07-28 16:52:53,371 - INFO - joeynmt.helpers - cfg.training.loss                  : crossentropy\n",
            "2021-07-28 16:52:53,371 - INFO - joeynmt.helpers - cfg.training.learning_rate         : 0.0003\n",
            "2021-07-28 16:52:53,371 - INFO - joeynmt.helpers - cfg.training.learning_rate_min     : 1e-08\n",
            "2021-07-28 16:52:53,371 - INFO - joeynmt.helpers - cfg.training.weight_decay          : 0.0\n",
            "2021-07-28 16:52:53,371 - INFO - joeynmt.helpers - cfg.training.label_smoothing       : 0.1\n",
            "2021-07-28 16:52:53,371 - INFO - joeynmt.helpers - cfg.training.batch_size            : 4096\n",
            "2021-07-28 16:52:53,371 - INFO - joeynmt.helpers - cfg.training.batch_type            : token\n",
            "2021-07-28 16:52:53,371 - INFO - joeynmt.helpers - cfg.training.eval_batch_size       : 3600\n",
            "2021-07-28 16:52:53,371 - INFO - joeynmt.helpers - cfg.training.eval_batch_type       : token\n",
            "2021-07-28 16:52:53,371 - INFO - joeynmt.helpers - cfg.training.batch_multiplier      : 1\n",
            "2021-07-28 16:52:53,372 - INFO - joeynmt.helpers - cfg.training.early_stopping_metric : ppl\n",
            "2021-07-28 16:52:53,372 - INFO - joeynmt.helpers - cfg.training.epochs                : 30\n",
            "2021-07-28 16:52:53,372 - INFO - joeynmt.helpers - cfg.training.validation_freq       : 1000\n",
            "2021-07-28 16:52:53,372 - INFO - joeynmt.helpers - cfg.training.logging_freq          : 100\n",
            "2021-07-28 16:52:53,372 - INFO - joeynmt.helpers - cfg.training.eval_metric           : bleu\n",
            "2021-07-28 16:52:53,372 - INFO - joeynmt.helpers - cfg.training.model_dir             : models/entr_transformer\n",
            "2021-07-28 16:52:53,372 - INFO - joeynmt.helpers - cfg.training.overwrite             : True\n",
            "2021-07-28 16:52:53,372 - INFO - joeynmt.helpers - cfg.training.shuffle               : True\n",
            "2021-07-28 16:52:53,372 - INFO - joeynmt.helpers - cfg.training.use_cuda              : True\n",
            "2021-07-28 16:52:53,372 - INFO - joeynmt.helpers - cfg.training.max_output_length     : 100\n",
            "2021-07-28 16:52:53,372 - INFO - joeynmt.helpers - cfg.training.print_valid_sents     : [0, 1, 2, 3]\n",
            "2021-07-28 16:52:53,372 - INFO - joeynmt.helpers - cfg.training.keep_last_ckpts       : 3\n",
            "2021-07-28 16:52:53,372 - INFO - joeynmt.helpers - cfg.model.initializer              : xavier\n",
            "2021-07-28 16:52:53,372 - INFO - joeynmt.helpers - cfg.model.bias_initializer         : zeros\n",
            "2021-07-28 16:52:53,372 - INFO - joeynmt.helpers - cfg.model.init_gain                : 1.0\n",
            "2021-07-28 16:52:53,372 - INFO - joeynmt.helpers - cfg.model.embed_initializer        : xavier\n",
            "2021-07-28 16:52:53,373 - INFO - joeynmt.helpers - cfg.model.embed_init_gain          : 1.0\n",
            "2021-07-28 16:52:53,373 - INFO - joeynmt.helpers - cfg.model.tied_embeddings          : True\n",
            "2021-07-28 16:52:53,373 - INFO - joeynmt.helpers - cfg.model.tied_softmax             : True\n",
            "2021-07-28 16:52:53,373 - INFO - joeynmt.helpers - cfg.model.encoder.type             : transformer\n",
            "2021-07-28 16:52:53,373 - INFO - joeynmt.helpers - cfg.model.encoder.num_layers       : 6\n",
            "2021-07-28 16:52:53,373 - INFO - joeynmt.helpers - cfg.model.encoder.num_heads        : 4\n",
            "2021-07-28 16:52:53,373 - INFO - joeynmt.helpers - cfg.model.encoder.embeddings.embedding_dim : 256\n",
            "2021-07-28 16:52:53,373 - INFO - joeynmt.helpers - cfg.model.encoder.embeddings.scale : True\n",
            "2021-07-28 16:52:53,373 - INFO - joeynmt.helpers - cfg.model.encoder.embeddings.dropout : 0.2\n",
            "2021-07-28 16:52:53,373 - INFO - joeynmt.helpers - cfg.model.encoder.hidden_size      : 256\n",
            "2021-07-28 16:52:53,373 - INFO - joeynmt.helpers - cfg.model.encoder.ff_size          : 1024\n",
            "2021-07-28 16:52:53,373 - INFO - joeynmt.helpers - cfg.model.encoder.dropout          : 0.3\n",
            "2021-07-28 16:52:53,373 - INFO - joeynmt.helpers - cfg.model.decoder.type             : transformer\n",
            "2021-07-28 16:52:53,373 - INFO - joeynmt.helpers - cfg.model.decoder.num_layers       : 6\n",
            "2021-07-28 16:52:53,373 - INFO - joeynmt.helpers - cfg.model.decoder.num_heads        : 4\n",
            "2021-07-28 16:52:53,374 - INFO - joeynmt.helpers - cfg.model.decoder.embeddings.embedding_dim : 256\n",
            "2021-07-28 16:52:53,374 - INFO - joeynmt.helpers - cfg.model.decoder.embeddings.scale : True\n",
            "2021-07-28 16:52:53,374 - INFO - joeynmt.helpers - cfg.model.decoder.embeddings.dropout : 0.2\n",
            "2021-07-28 16:52:53,374 - INFO - joeynmt.helpers - cfg.model.decoder.hidden_size      : 256\n",
            "2021-07-28 16:52:53,374 - INFO - joeynmt.helpers - cfg.model.decoder.ff_size          : 1024\n",
            "2021-07-28 16:52:53,374 - INFO - joeynmt.helpers - cfg.model.decoder.dropout          : 0.3\n",
            "2021-07-28 16:52:53,374 - INFO - joeynmt.helpers - Data set sizes: \n",
            "\ttrain 370216,\n",
            "\tvalid 1000,\n",
            "\ttest 1000\n",
            "2021-07-28 16:52:53,374 - INFO - joeynmt.helpers - First training example:\n",
            "\t[SRC] ▁than k ▁you ▁so ▁much ▁, ▁ch ris ▁.\n",
            "\t[TRG] ▁çok ▁teş ek kür ▁eder im ▁chris ▁.\n",
            "2021-07-28 16:52:53,374 - INFO - joeynmt.helpers - First 10 words (src): (0) <unk> (1) <pad> (2) <s> (3) </s> (4) ▁. (5) ▁, (6) ▁the (7) ▁' (8) ▁and (9) ▁\n",
            "2021-07-28 16:52:53,374 - INFO - joeynmt.helpers - First 10 words (trg): (0) <unk> (1) <pad> (2) <s> (3) </s> (4) ▁. (5) ▁, (6) ▁the (7) ▁' (8) ▁and (9) ▁\n",
            "2021-07-28 16:52:53,374 - INFO - joeynmt.helpers - Number of Src words (types): 9034\n",
            "2021-07-28 16:52:53,374 - INFO - joeynmt.helpers - Number of Trg words (types): 9034\n",
            "2021-07-28 16:52:53,374 - INFO - joeynmt.training - Model(\n",
            "\tencoder=TransformerEncoder(num_layers=6, num_heads=4),\n",
            "\tdecoder=TransformerDecoder(num_layers=6, num_heads=4),\n",
            "\tsrc_embed=Embeddings(embedding_dim=256, vocab_size=9034),\n",
            "\ttrg_embed=Embeddings(embedding_dim=256, vocab_size=9034))\n",
            "2021-07-28 16:52:53,383 - INFO - joeynmt.training - Train stats:\n",
            "\tdevice: cuda\n",
            "\tn_gpu: 1\n",
            "\t16-bits training: False\n",
            "\tgradient accumulation: 1\n",
            "\tbatch size per device: 4096\n",
            "\ttotal batch size (w. parallel & accumulation): 4096\n",
            "2021-07-28 16:52:53,383 - INFO - joeynmt.training - EPOCH 1\n",
            "2021-07-28 16:53:08,820 - INFO - joeynmt.training - Epoch   1, Step:     1100, Batch Loss:     5.040347, Tokens per Sec:    15405, Lr: 0.000300\n",
            "2021-07-28 16:53:23,770 - INFO - joeynmt.training - Epoch   1, Step:     1200, Batch Loss:     4.679378, Tokens per Sec:    16521, Lr: 0.000300\n",
            "2021-07-28 16:53:39,046 - INFO - joeynmt.training - Epoch   1, Step:     1300, Batch Loss:     4.687664, Tokens per Sec:    16342, Lr: 0.000300\n",
            "2021-07-28 16:53:54,321 - INFO - joeynmt.training - Epoch   1, Step:     1400, Batch Loss:     4.884373, Tokens per Sec:    15794, Lr: 0.000300\n",
            "2021-07-28 16:54:09,629 - INFO - joeynmt.training - Epoch   1, Step:     1500, Batch Loss:     4.775616, Tokens per Sec:    15877, Lr: 0.000300\n",
            "2021-07-28 16:54:25,084 - INFO - joeynmt.training - Epoch   1, Step:     1600, Batch Loss:     3.958221, Tokens per Sec:    15485, Lr: 0.000300\n",
            "2021-07-28 16:54:41,036 - INFO - joeynmt.training - Epoch   1, Step:     1700, Batch Loss:     4.736360, Tokens per Sec:    15393, Lr: 0.000300\n",
            "2021-07-28 16:54:57,260 - INFO - joeynmt.training - Epoch   1, Step:     1800, Batch Loss:     3.919059, Tokens per Sec:    14830, Lr: 0.000300\n",
            "2021-07-28 16:55:13,384 - INFO - joeynmt.training - Epoch   1, Step:     1900, Batch Loss:     4.417824, Tokens per Sec:    14910, Lr: 0.000300\n",
            "2021-07-28 16:55:29,522 - INFO - joeynmt.training - Epoch   1, Step:     2000, Batch Loss:     3.567585, Tokens per Sec:    15001, Lr: 0.000300\n",
            "2021-07-28 16:56:17,824 - INFO - joeynmt.training - Hooray! New best validation result [ppl]!\n",
            "2021-07-28 16:56:17,825 - INFO - joeynmt.training - Saving new checkpoint.\n",
            "2021-07-28 16:56:18,299 - INFO - joeynmt.training - Example #0\n",
            "2021-07-28 16:56:18,299 - INFO - joeynmt.training - \tSource:     ▁it ▁' s ▁a ▁very ▁big ▁signal ▁; ▁it ▁' s ▁sent ▁to ▁the ▁bra in ▁says ▁, ▁\" ▁go ▁and ▁e at ▁. ▁\"\n",
            "2021-07-28 16:56:18,300 - INFO - joeynmt.training - \tReference:  ▁bu ▁çok ▁güçlü ▁bir ▁sin yal dir ▁. ▁bey ine ▁gider ▁ve ▁der ▁ki ▁, ▁\" ▁git ▁ve ▁ye ▁. ▁\"\n",
            "2021-07-28 16:56:18,300 - INFO - joeynmt.training - \tHypothesis: ▁bu ▁yüzden ▁, ▁\" ▁bu ▁yüzden ▁, ▁\" ▁d ed iğ in iz ▁, ▁\" ▁d ed iğ im ▁, ▁\"\n",
            "2021-07-28 16:56:18,300 - INFO - joeynmt.training - Example #1\n",
            "2021-07-28 16:56:18,300 - INFO - joeynmt.training - \tSource:     ▁you ▁have ▁stop ▁sign als ▁- - ▁we ▁have ▁up ▁to ▁eight ▁stop ▁sign als ▁.\n",
            "2021-07-28 16:56:18,300 - INFO - joeynmt.training - \tReference:  ▁ayrıca ▁dur ▁sin yal leri ▁de ▁vardır . ▁hemen ▁hemen ▁sekiz ▁tane ▁farklı ▁dur ▁sin yal imiz ▁var ▁.\n",
            "2021-07-28 16:56:18,300 - INFO - joeynmt.training - \tHypothesis: ▁bu ▁yüzden ▁, ▁bu ▁yüzden ▁, ▁bu ▁yüzden ▁, ▁bu ▁yüzden ▁, ▁bu ▁yüzden ▁, ▁bu ▁yüzden ▁, ▁bu ▁yüzden ▁bir ▁şey ▁.\n",
            "2021-07-28 16:56:18,300 - INFO - joeynmt.training - Example #2\n",
            "2021-07-28 16:56:18,300 - INFO - joeynmt.training - \tSource:     ▁at ▁least ▁in ▁my ▁case ▁, ▁they ▁are ▁not ▁list ened ▁to ▁.\n",
            "2021-07-28 16:56:18,300 - INFO - joeynmt.training - \tReference:  ▁ama ▁benim ▁g ib iler ▁bu ▁sin yal leri ▁pek ▁de ▁din lem iyor lar ▁.\n",
            "2021-07-28 16:56:18,300 - INFO - joeynmt.training - \tHypothesis: ▁bu ▁yüzden ▁, ▁bu ▁yüzden ▁, ▁bu ▁yüzden ▁, ▁bu ▁yüzden ▁, ▁bu ▁yüzden ▁,\n",
            "2021-07-28 16:56:18,301 - INFO - joeynmt.training - Example #3\n",
            "2021-07-28 16:56:18,301 - INFO - joeynmt.training - \tSource:     ▁( ▁la ugh ter ▁ ) ▁so ▁what ▁happ ens ▁if ▁the ▁big ▁bra in ▁in ▁the ▁integr ation ▁over r ides ▁the ▁signal ▁ ?\n",
            "2021-07-28 16:56:18,301 - INFO - joeynmt.training - \tReference:  ▁( ▁gül üş meler ▁) ▁p eki ▁, ▁eğer ▁büyük ▁bey in ▁bu ▁gönder ilen ▁sin yal i ▁gör mez den ▁gelir se ▁ne ▁olur ▁ ?\n",
            "2021-07-28 16:56:18,301 - INFO - joeynmt.training - \tHypothesis: ▁( ▁gül üş meler ▁) ▁bu ▁yüzden ▁, ▁bu ▁yüzden ▁bu ▁yüzden ▁bu ▁yüzden ▁bu ▁şekilde ▁nasıl ▁nasıl ▁nasıl ▁yap abilir ▁mi ▁ ?\n",
            "2021-07-28 16:56:18,301 - INFO - joeynmt.training - Validation result (greedy) at epoch   1, step     2000: bleu:   2.31, loss: 104788.8047, ppl:  65.9925, duration: 48.7782s\n",
            "2021-07-28 16:56:34,324 - INFO - joeynmt.training - Epoch   1, Step:     2100, Batch Loss:     4.015805, Tokens per Sec:    15108, Lr: 0.000300\n",
            "2021-07-28 16:56:50,301 - INFO - joeynmt.training - Epoch   1, Step:     2200, Batch Loss:     4.364112, Tokens per Sec:    14957, Lr: 0.000300\n",
            "2021-07-28 16:57:06,377 - INFO - joeynmt.training - Epoch   1, Step:     2300, Batch Loss:     3.913055, Tokens per Sec:    15505, Lr: 0.000300\n",
            "2021-07-28 16:57:22,392 - INFO - joeynmt.training - Epoch   1, Step:     2400, Batch Loss:     4.053391, Tokens per Sec:    15228, Lr: 0.000300\n",
            "2021-07-28 16:57:38,524 - INFO - joeynmt.training - Epoch   1, Step:     2500, Batch Loss:     4.355020, Tokens per Sec:    15342, Lr: 0.000300\n",
            "2021-07-28 16:57:54,767 - INFO - joeynmt.training - Epoch   1, Step:     2600, Batch Loss:     3.925006, Tokens per Sec:    15665, Lr: 0.000300\n",
            "2021-07-28 16:58:10,709 - INFO - joeynmt.training - Epoch   1, Step:     2700, Batch Loss:     3.960259, Tokens per Sec:    15288, Lr: 0.000300\n",
            "2021-07-28 16:58:26,716 - INFO - joeynmt.training - Epoch   1, Step:     2800, Batch Loss:     3.953107, Tokens per Sec:    15453, Lr: 0.000300\n",
            "2021-07-28 16:58:42,729 - INFO - joeynmt.training - Epoch   1, Step:     2900, Batch Loss:     3.973259, Tokens per Sec:    15140, Lr: 0.000300\n",
            "2021-07-28 16:58:58,866 - INFO - joeynmt.training - Epoch   1, Step:     3000, Batch Loss:     4.405763, Tokens per Sec:    15363, Lr: 0.000300\n",
            "2021-07-28 16:59:45,427 - INFO - joeynmt.training - Hooray! New best validation result [ppl]!\n",
            "2021-07-28 16:59:45,428 - INFO - joeynmt.training - Saving new checkpoint.\n",
            "2021-07-28 16:59:45,862 - INFO - joeynmt.training - Example #0\n",
            "2021-07-28 16:59:45,863 - INFO - joeynmt.training - \tSource:     ▁it ▁' s ▁a ▁very ▁big ▁signal ▁; ▁it ▁' s ▁sent ▁to ▁the ▁bra in ▁says ▁, ▁\" ▁go ▁and ▁e at ▁. ▁\"\n",
            "2021-07-28 16:59:45,863 - INFO - joeynmt.training - \tReference:  ▁bu ▁çok ▁güçlü ▁bir ▁sin yal dir ▁. ▁bey ine ▁gider ▁ve ▁der ▁ki ▁, ▁\" ▁git ▁ve ▁ye ▁. ▁\"\n",
            "2021-07-28 16:59:45,863 - INFO - joeynmt.training - \tHypothesis: ▁bu ▁, ▁bir ▁şey ▁, ▁\" ▁bu ▁, ▁\" ▁bir ▁şey ▁, ▁\" ▁d ed iğ im ▁gibi ▁, ▁\"\n",
            "2021-07-28 16:59:45,863 - INFO - joeynmt.training - Example #1\n",
            "2021-07-28 16:59:45,863 - INFO - joeynmt.training - \tSource:     ▁you ▁have ▁stop ▁sign als ▁- - ▁we ▁have ▁up ▁to ▁eight ▁stop ▁sign als ▁.\n",
            "2021-07-28 16:59:45,863 - INFO - joeynmt.training - \tReference:  ▁ayrıca ▁dur ▁sin yal leri ▁de ▁vardır . ▁hemen ▁hemen ▁sekiz ▁tane ▁farklı ▁dur ▁sin yal imiz ▁var ▁.\n",
            "2021-07-28 16:59:45,863 - INFO - joeynmt.training - \tHypothesis: ▁ 2 0 ▁' de ▁, ▁ 2 0 ▁' de ▁, ▁ 2 0 ▁' de ▁, ▁ 2 0 ▁' de ▁.\n",
            "2021-07-28 16:59:45,863 - INFO - joeynmt.training - Example #2\n",
            "2021-07-28 16:59:45,863 - INFO - joeynmt.training - \tSource:     ▁at ▁least ▁in ▁my ▁case ▁, ▁they ▁are ▁not ▁list ened ▁to ▁.\n",
            "2021-07-28 16:59:45,864 - INFO - joeynmt.training - \tReference:  ▁ama ▁benim ▁g ib iler ▁bu ▁sin yal leri ▁pek ▁de ▁din lem iyor lar ▁.\n",
            "2021-07-28 16:59:45,864 - INFO - joeynmt.training - \tHypothesis: ▁i ̇ n san lar ▁, ▁benim ▁için ▁, ▁benim ▁için ▁, ▁benim ▁için ▁çok ▁iyi ▁değil ▁.\n",
            "2021-07-28 16:59:45,864 - INFO - joeynmt.training - Example #3\n",
            "2021-07-28 16:59:45,864 - INFO - joeynmt.training - \tSource:     ▁( ▁la ugh ter ▁ ) ▁so ▁what ▁happ ens ▁if ▁the ▁big ▁bra in ▁in ▁the ▁integr ation ▁over r ides ▁the ▁signal ▁ ?\n",
            "2021-07-28 16:59:45,864 - INFO - joeynmt.training - \tReference:  ▁( ▁gül üş meler ▁) ▁p eki ▁, ▁eğer ▁büyük ▁bey in ▁bu ▁gönder ilen ▁sin yal i ▁gör mez den ▁gelir se ▁ne ▁olur ▁ ?\n",
            "2021-07-28 16:59:45,864 - INFO - joeynmt.training - \tHypothesis: ▁( ▁gül üş meler ▁) ▁bu ▁, ▁bu ▁, ▁bu ▁, ▁bey in iz in ▁en ▁az ından ▁daha ▁fazla ▁insan ın ▁nasıl ▁ ?\n",
            "2021-07-28 16:59:45,864 - INFO - joeynmt.training - Validation result (greedy) at epoch   1, step     3000: bleu:   3.29, loss: 96139.1641, ppl:  46.6989, duration: 46.9973s\n",
            "2021-07-28 17:00:01,804 - INFO - joeynmt.training - Epoch   1, Step:     3100, Batch Loss:     3.237124, Tokens per Sec:    14911, Lr: 0.000300\n",
            "2021-07-28 17:00:17,811 - INFO - joeynmt.training - Epoch   1, Step:     3200, Batch Loss:     3.741183, Tokens per Sec:    15031, Lr: 0.000300\n",
            "2021-07-28 17:00:34,045 - INFO - joeynmt.training - Epoch   1, Step:     3300, Batch Loss:     4.225142, Tokens per Sec:    15262, Lr: 0.000300\n",
            "2021-07-28 17:00:49,975 - INFO - joeynmt.training - Epoch   1, Step:     3400, Batch Loss:     4.210491, Tokens per Sec:    15347, Lr: 0.000300\n",
            "2021-07-28 17:01:06,026 - INFO - joeynmt.training - Epoch   1, Step:     3500, Batch Loss:     4.105839, Tokens per Sec:    15412, Lr: 0.000300\n",
            "Traceback (most recent call last):\n",
            "  File \"/usr/lib/python3.7/runpy.py\", line 193, in _run_module_as_main\n",
            "    \"__main__\", mod_spec)\n",
            "  File \"/usr/lib/python3.7/runpy.py\", line 85, in _run_code\n",
            "    exec(code, run_globals)\n",
            "  File \"/content/joeynmt/joeynmt/__main__.py\", line 48, in <module>\n",
            "    main()\n",
            "  File \"/content/joeynmt/joeynmt/__main__.py\", line 35, in main\n",
            "    train(cfg_file=args.config_path, skip_test=args.skip_test)\n",
            "  File \"/content/joeynmt/joeynmt/training.py\", line 805, in train\n",
            "    trainer.train_and_validate(train_data=train_data, valid_data=dev_data)\n",
            "  File \"/content/joeynmt/joeynmt/training.py\", line 440, in train_and_validate\n",
            "    self.optimizer.step()\n",
            "  File \"/usr/local/lib/python3.7/dist-packages/torch/optim/optimizer.py\", line 89, in wrapper\n",
            "    return func(*args, **kwargs)\n",
            "  File \"/usr/local/lib/python3.7/dist-packages/torch/autograd/grad_mode.py\", line 27, in decorate_context\n",
            "    return func(*args, **kwargs)\n",
            "  File \"/usr/local/lib/python3.7/dist-packages/torch/optim/adam.py\", line 119, in step\n",
            "    group['eps'])\n",
            "  File \"/usr/local/lib/python3.7/dist-packages/torch/optim/_functional.py\", line 92, in adam\n",
            "    denom = (exp_avg_sq.sqrt() / math.sqrt(bias_correction2)).add_(eps)\n",
            "KeyboardInterrupt\n"
          ],
          "name": "stdout"
        }
      ]
    },
    {
      "cell_type": "code",
      "metadata": {
        "collapsed": true,
        "id": "MBoDS09JM807"
      },
      "source": [
        "# Copy the created models from the notebook storage to google drive for persistant storage \n",
        "! mkdir -p \"$gdrive_path/models/${src}${tgt}_transformer/\"\n",
        "! cp -r joeynmt/models/${src}${tgt}_transformer/* \"$gdrive_path/models/${src}${tgt}_transformer/\""
      ],
      "execution_count": 21,
      "outputs": []
    },
    {
      "cell_type": "code",
      "metadata": {
        "id": "2qNinL_DvYhI"
      },
      "source": [
        "# OR... If continuing from previous work, load models from google drive to notebook storage  \n",
        "! mkdir -p joeynmt/models/${src}${tgt}_transformer\n",
        "! cp -r \"$gdrive_path/models/${src}${tgt}_transformer\" joeynmt/models"
      ],
      "execution_count": 32,
      "outputs": []
    },
    {
      "cell_type": "code",
      "metadata": {
        "collapsed": true,
        "id": "n94wlrCjVc17",
        "colab": {
          "base_uri": "https://localhost:8080/"
        },
        "outputId": "af45ae97-0cc7-4b8c-8474-6a02108ffbba"
      },
      "source": [
        "# Output our validation accuracy\n",
        "! cat \"$gdrive_path/models/${src}${tgt}_transformer/validations.txt\""
      ],
      "execution_count": 39,
      "outputs": [
        {
          "output_type": "stream",
          "text": [
            "Steps: 1000\tLoss: 4971087.00000\tPPL: 85.69424\tbleu: 2.36058\tLR: 0.00030000\t*\n"
          ],
          "name": "stdout"
        }
      ]
    },
    {
      "cell_type": "code",
      "metadata": {
        "collapsed": true,
        "id": "66WhRE9lIhoD",
        "colab": {
          "base_uri": "https://localhost:8080/"
        },
        "outputId": "c24c5e2f-99a4-4ac2-e3aa-c8a0f86679fe"
      },
      "source": [
        "# Test our model\n",
        "! cd joeynmt; python3 -m joeynmt test \"$gdrive_path/models/${src}${tgt}_transformer/config.yaml\""
      ],
      "execution_count": 23,
      "outputs": [
        {
          "output_type": "stream",
          "text": [
            "2021-07-28 16:28:56,802 - INFO - root - Hello! This is Joey-NMT (version 1.3).\n",
            "2021-07-28 16:28:56,802 - INFO - joeynmt.data - Building vocabulary...\n",
            "2021-07-28 16:28:57,990 - INFO - joeynmt.data - Loading dev data...\n",
            "2021-07-28 16:28:58,003 - INFO - joeynmt.data - Loading test data...\n",
            "2021-07-28 16:28:58,014 - INFO - joeynmt.data - Data loaded.\n",
            "2021-07-28 16:28:58,045 - INFO - joeynmt.prediction - Process device: cuda, n_gpu: 1, batch_size per device: 18000 (with beam_size)\n",
            "2021-07-28 16:29:01,412 - INFO - joeynmt.model - Building an encoder-decoder model...\n",
            "2021-07-28 16:29:01,642 - INFO - joeynmt.model - Enc-dec model built.\n",
            "2021-07-28 16:29:01,712 - INFO - joeynmt.prediction - Decoding on dev set (data/entr/dev.bpe.tr)...\n",
            "2021-07-28 16:30:08,794 - INFO - joeynmt.prediction -  dev bleu[13a]:   0.97 [Beam search decoding with beam size = 5 and alpha = 1.0]\n",
            "2021-07-28 16:30:08,795 - INFO - joeynmt.prediction - Decoding on test set (data/entr/test.bpe.tr)...\n",
            "2021-07-28 16:31:30,255 - INFO - joeynmt.prediction - test bleu[13a]:   0.75 [Beam search decoding with beam size = 5 and alpha = 1.0]\n"
          ],
          "name": "stdout"
        }
      ]
    },
    {
      "cell_type": "markdown",
      "metadata": {
        "id": "T-RmEmRGD7Sb"
      },
      "source": [
        "# Fine-tuning to domain\n",
        "\n",
        "One important technique in neural machine translation is in-domain adaptation or fine-tuning. This introduces the model a certain domain we're interested to do translations in. \n",
        "\n",
        "One simple way of doing this is having a pre-trained model and continuing training from it on our in-domain training set. \n",
        "\n",
        "In this example we're going to fine-tune our model to news. "
      ]
    },
    {
      "cell_type": "code",
      "metadata": {
        "id": "hXNGfXzZEbS0",
        "outputId": "1853ccfc-bb8d-48ad-c56a-41e52441b9cd",
        "colab": {
          "base_uri": "https://localhost:8080/"
        }
      },
      "source": [
        "fine_corpus = \"WMT-News\" \n",
        "os.environ[\"fine\"] = fine_corpus\n",
        "\n",
        "# Downloading our corpus \n",
        "! opus_read -d $fine -s $src -t $tgt -wm moses -w $fine.$src $fine.$tgt -q\n",
        "\n",
        "# Extract the corpus file\n",
        "! gunzip ${fine}_latest_xml_$src-$tgt.xml.gz\n"
      ],
      "execution_count": 32,
      "outputs": [
        {
          "output_type": "stream",
          "text": [
            "\n",
            "Alignment file /proj/nlpl/data/OPUS/WMT-News/latest/xml/en-tr.xml.gz not found. The following files are available for downloading:\n",
            "\n",
            "  92 KB https://object.pouta.csc.fi/OPUS-WMT-News/v2019/xml/en-tr.xml.gz\n",
            "  63 MB https://object.pouta.csc.fi/OPUS-WMT-News/v2019/xml/en.zip\n",
            "   2 MB https://object.pouta.csc.fi/OPUS-WMT-News/v2019/xml/tr.zip\n",
            "\n",
            "  66 MB Total size\n",
            "./WMT-News_latest_xml_en-tr.xml.gz ... 100% of 92 KB\n",
            "./WMT-News_latest_xml_en.zip ... 100% of 63 MB\n",
            "./WMT-News_latest_xml_tr.zip ... 100% of 2 MB\n"
          ],
          "name": "stdout"
        }
      ]
    },
    {
      "cell_type": "code",
      "metadata": {
        "id": "yjVYnALNFcyP"
      },
      "source": [
        "# Read the corpus into python lists\n",
        "source_file = fine_corpus + '.' + source_language\n",
        "target_file = fine_corpus + '.' + target_language\n",
        "\n",
        "fine_src_all_bpe = [encode_bpe(sentence.strip(),'en') for sentence in open(source_file).readlines()]\n",
        "fine_tgt_all_bpe = [encode_bpe(sentence.strip(), 'tr') for sentence in open(target_file).readlines()]\n"
      ],
      "execution_count": 35,
      "outputs": []
    },
    {
      "cell_type": "code",
      "metadata": {
        "id": "maxV-WTBFwbQ",
        "outputId": "f475eb09-2054-4c7e-8c63-f3483a4d3e66",
        "colab": {
          "base_uri": "https://localhost:8080/"
        }
      },
      "source": [
        "# Let's take a peek at the files\n",
        "print(\"Source size:\", len(fine_src_all_bpe))\n",
        "print(\"Target size:\", len(fine_tgt_all_bpe))\n",
        "print(\"--------\")\n",
        "\n",
        "peek_size = 5\n",
        "for i in range(peek_size):\n",
        "  print(\"Sent #\", i)\n",
        "  print(\"SRC:\", decode_bpe(fine_src_all_bpe[i], 'en'))\n",
        "  print(\"TGT:\", decode_bpe(fine_tgt_all_bpe[i],'tr'))\n",
        "  print(\"---------\")"
      ],
      "execution_count": 36,
      "outputs": [
        {
          "output_type": "stream",
          "text": [
            "Source size: 20016\n",
            "Target size: 20016\n",
            "--------\n",
            "Sent # 0\n",
            "SRC: two people drowned in floods in trabzon\n",
            "TGT: trabzon ' da sel iki kişiyi yuttu\n",
            "---------\n",
            "Sent # 1\n",
            "SRC: the ikisu creek overflowed on account of heavy rainfall in the district of yomra in trabzon .\n",
            "TGT: trabzon ’ un yomra ilçesinde etkili olan sağanak yağış nedeniyle i̇kisu deresi taştı .\n",
            "---------\n",
            "Sent # 2\n",
            "SRC: two women disappeared in the floodwaters in the village of tasdelen and the road to the village of sayvan was closed .\n",
            "TGT: taşdelen köyünde sele kapılan iki kadın kaybolurken , sayvan köyü yolu ulaşıma kapandı .\n",
            "---------\n",
            "Sent # 3\n",
            "SRC: the body of one of the women drowned in the floods was found .\n",
            "TGT: selde kayıp olan iki kadından birinin cesedine ulaşıldı .\n",
            "---------\n",
            "Sent # 4\n",
            "SRC: there was precipitation in the highlands of yomra at around 15 : 00 .\n",
            "TGT: yağış , yomra ’ nın yüksek kesiminde saat 15.00 sıralarında etkili oldu .\n",
            "---------\n"
          ],
          "name": "stdout"
        }
      ]
    },
    {
      "cell_type": "code",
      "metadata": {
        "id": "1HcjsY5UF_Pk",
        "outputId": "f30845b8-1a5c-4aa4-e435-4ee9af689b1c",
        "colab": {
          "base_uri": "https://localhost:8080/"
        }
      },
      "source": [
        "# Allocate train, dev, test portions\n",
        "all_size = len(fine_src_all_bpe)\n",
        "dev_size = 500\n",
        "test_size = 500\n",
        "train_size = all_size - test_size - dev_size\n",
        "\n",
        "fine_src_train_bpe = fine_src_all_bpe[0:train_size]\n",
        "fine_tgt_train_bpe = fine_tgt_all_bpe[0:train_size]\n",
        "\n",
        "fine_src_dev_bpe = fine_src_all_bpe[train_size:train_size+dev_size]\n",
        "fine_tgt_dev_bpe = fine_tgt_all_bpe[train_size:train_size+dev_size]\n",
        "\n",
        "fine_src_test_bpe = fine_src_all_bpe[train_size+dev_size:all_size]\n",
        "fine_tgt_test_bpe = fine_tgt_all_bpe[train_size+dev_size:all_size]\n",
        "\n",
        "print(\"Set sizes\")\n",
        "print(\"All:\", len(fine_src_all_bpe))\n",
        "print(\"Train:\", len(fine_src_train_bpe))\n",
        "print(\"Dev:\", len(fine_src_dev_bpe))\n",
        "print(\"Test:\", len(fine_src_test_bpe))"
      ],
      "execution_count": 38,
      "outputs": [
        {
          "output_type": "stream",
          "text": [
            "Set sizes\n",
            "All: 20016\n",
            "Train: 19016\n",
            "Dev: 500\n",
            "Test: 500\n"
          ],
          "name": "stdout"
        }
      ]
    },
    {
      "cell_type": "code",
      "metadata": {
        "id": "xvweRBGDGeXL",
        "outputId": "88e89b04-0777-4639-a85e-68a7f24228ef",
        "colab": {
          "base_uri": "https://localhost:8080/",
          "height": 263
        }
      },
      "source": [
        "# Store sentences as files\n",
        "with open(\"finetrain.bpe.\"+source_language, \"w\") as src_file, open(\"finetrain.bpe.\"+target_language, \"w\") as tgt_file:\n",
        "  for s, t in zip(fine_src_train_bpe, fine_tgt_train_bpe):\n",
        "    src_file.write(s+\"\\n\")\n",
        "    tgt_file.write(t+\"\\n\")\n",
        "\n",
        "with open(\"finedev.bpe.\"+source_language, \"w\") as src_file, open(\"finedev.bpe.\"+target_language, \"w\") as tgt_file:\n",
        "  for s, t in zip(fine_src_dev_bpe, fine_tgt_dev_bpe):\n",
        "    src_file.write(s+\"\\n\")\n",
        "    tgt_file.write(t+\"\\n\")\n",
        "\n",
        "with open(\"finetest.bpe.\"+source_language, \"w\") as src_file, open(\"finetest.bpe.\"+target_language, \"w\") as tgt_file:\n",
        "  for s, t in zip(fine_src_test_bpe, fine_tgt_test_bpe):\n",
        "    src_file.write(s+\"\\n\")\n",
        "    tgt_file.write(t+\"\\n\")\n"
      ],
      "execution_count": 62,
      "outputs": [
        {
          "output_type": "error",
          "ename": "NameError",
          "evalue": "ignored",
          "traceback": [
            "\u001b[0;31m---------------------------------------------------------------------------\u001b[0m",
            "\u001b[0;31mNameError\u001b[0m                                 Traceback (most recent call last)",
            "\u001b[0;32m<ipython-input-62-d15f6d523ad7>\u001b[0m in \u001b[0;36m<module>\u001b[0;34m()\u001b[0m\n\u001b[1;32m      1\u001b[0m \u001b[0;31m# Store sentences as files\u001b[0m\u001b[0;34m\u001b[0m\u001b[0;34m\u001b[0m\u001b[0;34m\u001b[0m\u001b[0m\n\u001b[1;32m      2\u001b[0m \u001b[0;32mwith\u001b[0m \u001b[0mopen\u001b[0m\u001b[0;34m(\u001b[0m\u001b[0;34m\"finetrain.bpe.\"\u001b[0m\u001b[0;34m+\u001b[0m\u001b[0msource_language\u001b[0m\u001b[0;34m,\u001b[0m \u001b[0;34m\"w\"\u001b[0m\u001b[0;34m)\u001b[0m \u001b[0;32mas\u001b[0m \u001b[0msrc_file\u001b[0m\u001b[0;34m,\u001b[0m \u001b[0mopen\u001b[0m\u001b[0;34m(\u001b[0m\u001b[0;34m\"finetrain.bpe.\"\u001b[0m\u001b[0;34m+\u001b[0m\u001b[0mtarget_language\u001b[0m\u001b[0;34m,\u001b[0m \u001b[0;34m\"w\"\u001b[0m\u001b[0;34m)\u001b[0m \u001b[0;32mas\u001b[0m \u001b[0mtgt_file\u001b[0m\u001b[0;34m:\u001b[0m\u001b[0;34m\u001b[0m\u001b[0;34m\u001b[0m\u001b[0m\n\u001b[0;32m----> 3\u001b[0;31m   \u001b[0;32mfor\u001b[0m \u001b[0ms\u001b[0m\u001b[0;34m,\u001b[0m \u001b[0mt\u001b[0m \u001b[0;32min\u001b[0m \u001b[0mzip\u001b[0m\u001b[0;34m(\u001b[0m\u001b[0mfine_src_train_bpe\u001b[0m\u001b[0;34m,\u001b[0m \u001b[0mfine_tgt_train_bpe\u001b[0m\u001b[0;34m)\u001b[0m\u001b[0;34m:\u001b[0m\u001b[0;34m\u001b[0m\u001b[0;34m\u001b[0m\u001b[0m\n\u001b[0m\u001b[1;32m      4\u001b[0m     \u001b[0msrc_file\u001b[0m\u001b[0;34m.\u001b[0m\u001b[0mwrite\u001b[0m\u001b[0;34m(\u001b[0m\u001b[0ms\u001b[0m\u001b[0;34m+\u001b[0m\u001b[0;34m\"\\n\"\u001b[0m\u001b[0;34m)\u001b[0m\u001b[0;34m\u001b[0m\u001b[0;34m\u001b[0m\u001b[0m\n\u001b[1;32m      5\u001b[0m     \u001b[0mtgt_file\u001b[0m\u001b[0;34m.\u001b[0m\u001b[0mwrite\u001b[0m\u001b[0;34m(\u001b[0m\u001b[0mt\u001b[0m\u001b[0;34m+\u001b[0m\u001b[0;34m\"\\n\"\u001b[0m\u001b[0;34m)\u001b[0m\u001b[0;34m\u001b[0m\u001b[0;34m\u001b[0m\u001b[0m\n",
            "\u001b[0;31mNameError\u001b[0m: name 'fine_src_train_bpe' is not defined"
          ]
        }
      ]
    },
    {
      "cell_type": "code",
      "metadata": {
        "id": "Rbz1Hf-0G-59",
        "outputId": "6d4afdfa-9382-4bcf-f62a-04d524c8ff22",
        "colab": {
          "base_uri": "https://localhost:8080/"
        }
      },
      "source": [
        "# If creating data for the first time, move all prepared data to the mounted location in google drive\n",
        "! mkdir -p \"$gdrive_path\"/data\n",
        "! cp finetrain.* \"$gdrive_path\"/data\n",
        "! cp finetest.* \"$gdrive_path\"/data\n",
        "! cp finedev.* \"$gdrive_path\"/data\n",
        "! ls \"$gdrive_path\"/data  #See the contents of the drive directory"
      ],
      "execution_count": 40,
      "outputs": [
        {
          "output_type": "stream",
          "text": [
            "mkdir: cannot create directory ‘/content/drive/My Drive/mt-workshop/en-tr-baseline/data’: File exists\n",
            "dev.bpe.en  finedev.bpe.en   finetrain.bpe.en  test.en\t     train.en\n",
            "dev.bpe.tr  finedev.bpe.tr   finetrain.bpe.tr  test.tr\t     train.tr\n",
            "dev.en\t    finetest.bpe.en  test.bpe.en       train.bpe.en\n",
            "dev.tr\t    finetest.bpe.tr  test.bpe.tr       train.bpe.tr\n"
          ],
          "name": "stdout"
        }
      ]
    },
    {
      "cell_type": "code",
      "metadata": {
        "id": "1mjN3UUoHJN0",
        "outputId": "43bbc9a0-392e-496a-e22d-a3cb9b6c22cb",
        "colab": {
          "base_uri": "https://localhost:8080/"
        }
      },
      "source": [
        "# #Move everything important under joeynmt directory\n",
        "# os.environ[\"data_path\"] = os.path.join(\"joeynmt\", \"data\", source_language + target_language)\n",
        "\n",
        "# Move fine-tuning data to data directory\n",
        "! mkdir -p $data_path\n",
        "! cp finetrain.* $data_path\n",
        "! cp finetest.* $data_path\n",
        "! cp finedev.* $data_path\n",
        "! ls $data_path"
      ],
      "execution_count": 41,
      "outputs": [
        {
          "output_type": "stream",
          "text": [
            "dev.bpe.en  finedev.bpe.en   finetrain.bpe.en  test.en\t     train.en\n",
            "dev.bpe.tr  finedev.bpe.tr   finetrain.bpe.tr  test.tr\t     train.tr\n",
            "dev.en\t    finetest.bpe.en  test.bpe.en       train.bpe.en  vocab.txt\n",
            "dev.tr\t    finetest.bpe.tr  test.bpe.tr       train.bpe.tr\n"
          ],
          "name": "stdout"
        }
      ]
    },
    {
      "cell_type": "code",
      "metadata": {
        "id": "3mdL95STIzPK"
      },
      "source": [
        "# Let's create a config file for finetuning training\n",
        "# Changes are dataset names, model name, batch size and learning rate\n",
        "\n",
        "name = '%s%s' % (source_language, target_language)\n",
        "gdrive_path = os.environ[\"gdrive_path\"]\n",
        "\n",
        "# Create the config\n",
        "config = \"\"\"\n",
        "name: \"{name}_transformer_finetune\"\n",
        "\n",
        "data:\n",
        "    src: \"{source_language}\"\n",
        "    trg: \"{target_language}\"\n",
        "    train: \"data/{name}/finetrain.bpe\"\n",
        "    dev:   \"data/{name}/finedev.bpe\"\n",
        "    test:  \"data/{name}/finetest.bpe\"\n",
        "    level: \"bpe\"\n",
        "    lowercase: False\n",
        "    max_sent_length: 100\n",
        "    src_vocab: \"data/{name}/vocab.txt\"\n",
        "    trg_vocab: \"data/{name}/vocab.txt\"\n",
        "\n",
        "testing:\n",
        "    beam_size: 5\n",
        "    alpha: 1.0\n",
        "\n",
        "training:\n",
        "    load_model: \"{gdrive_path}/models/{name}_transformer/best.ckpt\" # Load base model from its best scoring checkpoint (from gdrive)\n",
        "    #load_model: \"models/{name}_transformer/best.ckpt\" # Load base model from its best scoring checkpoint (from local)\n",
        "    random_seed: 42\n",
        "    optimizer: \"adam\"\n",
        "    normalization: \"tokens\"\n",
        "    adam_betas: [0.9, 0.999] \n",
        "    scheduling: \"plateau\"           # TODO: try switching from plateau to Noam scheduling\n",
        "    patience: 5                     # For plateau: decrease learning rate by decrease_factor if validation score has not improved for this many validation rounds.\n",
        "    learning_rate_factor: 0.5       # factor for Noam scheduler (used with Transformer)\n",
        "    learning_rate_warmup: 1000      # warmup steps for Noam scheduler (used with Transformer)\n",
        "    decrease_factor: 0.7\n",
        "    loss: \"crossentropy\"\n",
        "    learning_rate: 0.0001\n",
        "    learning_rate_min: 0.00000001\n",
        "    weight_decay: 0.0\n",
        "    label_smoothing: 0.1\n",
        "    batch_size: 1028\n",
        "    batch_type: \"token\"\n",
        "    eval_batch_size: 3600\n",
        "    eval_batch_type: \"token\"\n",
        "    batch_multiplier: 1\n",
        "    early_stopping_metric: \"ppl\"\n",
        "    epochs: 30                     # TODO: Decrease for when playing around and checking of working. Around 30 is sufficient to check if its working at all\n",
        "    validation_freq: 1000          # TODO: Set to at least once per epoch.\n",
        "    logging_freq: 100\n",
        "    eval_metric: \"bleu\"\n",
        "    model_dir: \"models/{name}_transformer\"\n",
        "    overwrite: True               # TODO: Set to True if you want to overwrite possibly existing models. \n",
        "    shuffle: True\n",
        "    use_cuda: True\n",
        "    max_output_length: 100\n",
        "    print_valid_sents: [0, 1, 2, 3]\n",
        "    keep_last_ckpts: 3\n",
        "\n",
        "model:\n",
        "    initializer: \"xavier\"\n",
        "    bias_initializer: \"zeros\"\n",
        "    init_gain: 1.0\n",
        "    embed_initializer: \"xavier\"\n",
        "    embed_init_gain: 1.0\n",
        "    tied_embeddings: True\n",
        "    tied_softmax: True\n",
        "    encoder:\n",
        "        type: \"transformer\"\n",
        "        num_layers: 6\n",
        "        num_heads: 4             # TODO: Increase to 8 for larger data.\n",
        "        embeddings:\n",
        "            embedding_dim: 256   # TODO: Increase to 512 for larger data.\n",
        "            scale: True\n",
        "            dropout: 0.2\n",
        "        # typically ff_size = 4 x hidden_size\n",
        "        hidden_size: 256         # TODO: Increase to 512 for larger data.\n",
        "        ff_size: 1024            # TODO: Increase to 2048 for larger data.\n",
        "        dropout: 0.3\n",
        "    decoder:\n",
        "        type: \"transformer\"\n",
        "        num_layers: 6\n",
        "        num_heads: 4              # TODO: Increase to 8 for larger data.\n",
        "        embeddings:\n",
        "            embedding_dim: 256    # TODO: Increase to 512 for larger data.\n",
        "            scale: True\n",
        "            dropout: 0.2\n",
        "        # typically ff_size = 4 x hidden_size\n",
        "        hidden_size: 256         # TODO: Increase to 512 for larger data.\n",
        "        ff_size: 1024            # TODO: Increase to 2048 for larger data.\n",
        "        dropout: 0.3\n",
        "\"\"\".format(name=name, gdrive_path=os.environ[\"gdrive_path\"], source_language=source_language, target_language=target_language)\n",
        "with open(\"joeynmt/configs/transformer_{name}_finetune.yaml\".format(name=name),'w') as f:\n",
        "    f.write(config)"
      ],
      "execution_count": 59,
      "outputs": []
    },
    {
      "cell_type": "code",
      "metadata": {
        "id": "VU2ehibpJdrF",
        "outputId": "5ced3ed3-691b-4fe2-93c0-990156076436",
        "colab": {
          "base_uri": "https://localhost:8080/"
        }
      },
      "source": [
        "# Test our model on our domain before fine-tuning\n",
        "! cd joeynmt; python3 -m joeynmt test \"configs/transformer_${src}${tgt}_finetune.yaml\""
      ],
      "execution_count": 55,
      "outputs": [
        {
          "output_type": "stream",
          "text": [
            "2021-07-28 17:31:20,972 - INFO - root - Hello! This is Joey-NMT (version 1.3).\n",
            "2021-07-28 17:31:20,972 - INFO - joeynmt.data - Building vocabulary...\n",
            "2021-07-28 17:31:22,174 - INFO - joeynmt.data - Loading dev data...\n",
            "2021-07-28 17:31:22,184 - INFO - joeynmt.data - Loading test data...\n",
            "2021-07-28 17:31:22,195 - INFO - joeynmt.data - Data loaded.\n",
            "2021-07-28 17:31:22,225 - INFO - joeynmt.prediction - Process device: cuda, n_gpu: 1, batch_size per device: 18000 (with beam_size)\n",
            "2021-07-28 17:31:25,561 - INFO - joeynmt.model - Building an encoder-decoder model...\n",
            "2021-07-28 17:31:25,780 - INFO - joeynmt.model - Enc-dec model built.\n",
            "2021-07-28 17:31:25,852 - INFO - joeynmt.prediction - Decoding on dev set (data/entr/finedev.bpe.tr)...\n",
            "2021-07-28 17:31:59,287 - INFO - joeynmt.prediction -  dev bleu[13a]:   3.79 [Beam search decoding with beam size = 5 and alpha = 1.0]\n",
            "2021-07-28 17:31:59,288 - INFO - joeynmt.prediction - Decoding on test set (data/entr/finetest.bpe.tr)...\n",
            "2021-07-28 17:32:36,006 - INFO - joeynmt.prediction - test bleu[13a]:   3.57 [Beam search decoding with beam size = 5 and alpha = 1.0]\n"
          ],
          "name": "stdout"
        }
      ]
    },
    {
      "cell_type": "code",
      "metadata": {
        "id": "u-ir9d-LKez3",
        "outputId": "8cb76d07-b083-4bb8-96fa-7888b8dcb796",
        "colab": {
          "base_uri": "https://localhost:8080/"
        }
      },
      "source": [
        "# Train to our domain\n",
        "# You can press Ctrl-C to stop. And then run the next cell to save your checkpoints! \n",
        "! cd joeynmt; python3 -m joeynmt train \"configs/transformer_${src}${tgt}_finetune.yaml\""
      ],
      "execution_count": 60,
      "outputs": [
        {
          "output_type": "stream",
          "text": [
            "2021-07-28 17:35:43,552 - INFO - root - Hello! This is Joey-NMT (version 1.3).\n",
            "2021-07-28 17:35:43,585 - INFO - joeynmt.data - Loading training data...\n",
            "2021-07-28 17:35:52,185 - INFO - joeynmt.data - Building vocabulary...\n",
            "2021-07-28 17:35:53,413 - INFO - joeynmt.data - Loading dev data...\n",
            "2021-07-28 17:35:53,459 - INFO - joeynmt.data - Loading test data...\n",
            "2021-07-28 17:35:53,469 - INFO - joeynmt.data - Data loaded.\n",
            "2021-07-28 17:35:53,469 - INFO - joeynmt.model - Building an encoder-decoder model...\n",
            "2021-07-28 17:35:53,695 - INFO - joeynmt.model - Enc-dec model built.\n",
            "2021-07-28 17:35:53.930981: I tensorflow/stream_executor/platform/default/dso_loader.cc:53] Successfully opened dynamic library libcudart.so.11.0\n",
            "2021-07-28 17:35:54,906 - INFO - joeynmt.training - Total params: 13372928\n",
            "2021-07-28 17:35:58,161 - INFO - joeynmt.training - Loading model from /content/drive/My Drive/mt-workshop/en-tr-baseline/models/entr_transformer/best.ckpt\n",
            "2021-07-28 17:35:58,607 - INFO - joeynmt.helpers - cfg.name                           : entr_transformer_finetune\n",
            "2021-07-28 17:35:58,607 - INFO - joeynmt.helpers - cfg.data.src                       : en\n",
            "2021-07-28 17:35:58,607 - INFO - joeynmt.helpers - cfg.data.trg                       : tr\n",
            "2021-07-28 17:35:58,607 - INFO - joeynmt.helpers - cfg.data.train                     : data/entr/finetrain.bpe\n",
            "2021-07-28 17:35:58,607 - INFO - joeynmt.helpers - cfg.data.dev                       : data/entr/finedev.bpe\n",
            "2021-07-28 17:35:58,608 - INFO - joeynmt.helpers - cfg.data.test                      : data/entr/finetest.bpe\n",
            "2021-07-28 17:35:58,608 - INFO - joeynmt.helpers - cfg.data.level                     : bpe\n",
            "2021-07-28 17:35:58,608 - INFO - joeynmt.helpers - cfg.data.lowercase                 : False\n",
            "2021-07-28 17:35:58,608 - INFO - joeynmt.helpers - cfg.data.max_sent_length           : 100\n",
            "2021-07-28 17:35:58,608 - INFO - joeynmt.helpers - cfg.data.src_vocab                 : data/entr/vocab.txt\n",
            "2021-07-28 17:35:58,608 - INFO - joeynmt.helpers - cfg.data.trg_vocab                 : data/entr/vocab.txt\n",
            "2021-07-28 17:35:58,608 - INFO - joeynmt.helpers - cfg.testing.beam_size              : 5\n",
            "2021-07-28 17:35:58,608 - INFO - joeynmt.helpers - cfg.testing.alpha                  : 1.0\n",
            "2021-07-28 17:35:58,608 - INFO - joeynmt.helpers - cfg.training.load_model            : /content/drive/My Drive/mt-workshop/en-tr-baseline/models/entr_transformer/best.ckpt\n",
            "2021-07-28 17:35:58,608 - INFO - joeynmt.helpers - cfg.training.random_seed           : 42\n",
            "2021-07-28 17:35:58,608 - INFO - joeynmt.helpers - cfg.training.optimizer             : adam\n",
            "2021-07-28 17:35:58,608 - INFO - joeynmt.helpers - cfg.training.normalization         : tokens\n",
            "2021-07-28 17:35:58,608 - INFO - joeynmt.helpers - cfg.training.adam_betas            : [0.9, 0.999]\n",
            "2021-07-28 17:35:58,608 - INFO - joeynmt.helpers - cfg.training.scheduling            : plateau\n",
            "2021-07-28 17:35:58,608 - INFO - joeynmt.helpers - cfg.training.patience              : 5\n",
            "2021-07-28 17:35:58,608 - INFO - joeynmt.helpers - cfg.training.learning_rate_factor  : 0.5\n",
            "2021-07-28 17:35:58,609 - INFO - joeynmt.helpers - cfg.training.learning_rate_warmup  : 1000\n",
            "2021-07-28 17:35:58,609 - INFO - joeynmt.helpers - cfg.training.decrease_factor       : 0.7\n",
            "2021-07-28 17:35:58,609 - INFO - joeynmt.helpers - cfg.training.loss                  : crossentropy\n",
            "2021-07-28 17:35:58,609 - INFO - joeynmt.helpers - cfg.training.learning_rate         : 0.0001\n",
            "2021-07-28 17:35:58,609 - INFO - joeynmt.helpers - cfg.training.learning_rate_min     : 1e-08\n",
            "2021-07-28 17:35:58,609 - INFO - joeynmt.helpers - cfg.training.weight_decay          : 0.0\n",
            "2021-07-28 17:35:58,609 - INFO - joeynmt.helpers - cfg.training.label_smoothing       : 0.1\n",
            "2021-07-28 17:35:58,609 - INFO - joeynmt.helpers - cfg.training.batch_size            : 1028\n",
            "2021-07-28 17:35:58,609 - INFO - joeynmt.helpers - cfg.training.batch_type            : token\n",
            "2021-07-28 17:35:58,609 - INFO - joeynmt.helpers - cfg.training.eval_batch_size       : 3600\n",
            "2021-07-28 17:35:58,609 - INFO - joeynmt.helpers - cfg.training.eval_batch_type       : token\n",
            "2021-07-28 17:35:58,609 - INFO - joeynmt.helpers - cfg.training.batch_multiplier      : 1\n",
            "2021-07-28 17:35:58,609 - INFO - joeynmt.helpers - cfg.training.early_stopping_metric : ppl\n",
            "2021-07-28 17:35:58,609 - INFO - joeynmt.helpers - cfg.training.epochs                : 30\n",
            "2021-07-28 17:35:58,609 - INFO - joeynmt.helpers - cfg.training.validation_freq       : 1000\n",
            "2021-07-28 17:35:58,609 - INFO - joeynmt.helpers - cfg.training.logging_freq          : 100\n",
            "2021-07-28 17:35:58,609 - INFO - joeynmt.helpers - cfg.training.eval_metric           : bleu\n",
            "2021-07-28 17:35:58,609 - INFO - joeynmt.helpers - cfg.training.model_dir             : models/entr_transformer\n",
            "2021-07-28 17:35:58,610 - INFO - joeynmt.helpers - cfg.training.overwrite             : True\n",
            "2021-07-28 17:35:58,610 - INFO - joeynmt.helpers - cfg.training.shuffle               : True\n",
            "2021-07-28 17:35:58,610 - INFO - joeynmt.helpers - cfg.training.use_cuda              : True\n",
            "2021-07-28 17:35:58,610 - INFO - joeynmt.helpers - cfg.training.max_output_length     : 100\n",
            "2021-07-28 17:35:58,610 - INFO - joeynmt.helpers - cfg.training.print_valid_sents     : [0, 1, 2, 3]\n",
            "2021-07-28 17:35:58,610 - INFO - joeynmt.helpers - cfg.training.keep_last_ckpts       : 3\n",
            "2021-07-28 17:35:58,610 - INFO - joeynmt.helpers - cfg.model.initializer              : xavier\n",
            "2021-07-28 17:35:58,610 - INFO - joeynmt.helpers - cfg.model.bias_initializer         : zeros\n",
            "2021-07-28 17:35:58,610 - INFO - joeynmt.helpers - cfg.model.init_gain                : 1.0\n",
            "2021-07-28 17:35:58,610 - INFO - joeynmt.helpers - cfg.model.embed_initializer        : xavier\n",
            "2021-07-28 17:35:58,610 - INFO - joeynmt.helpers - cfg.model.embed_init_gain          : 1.0\n",
            "2021-07-28 17:35:58,610 - INFO - joeynmt.helpers - cfg.model.tied_embeddings          : True\n",
            "2021-07-28 17:35:58,610 - INFO - joeynmt.helpers - cfg.model.tied_softmax             : True\n",
            "2021-07-28 17:35:58,610 - INFO - joeynmt.helpers - cfg.model.encoder.type             : transformer\n",
            "2021-07-28 17:35:58,610 - INFO - joeynmt.helpers - cfg.model.encoder.num_layers       : 6\n",
            "2021-07-28 17:35:58,610 - INFO - joeynmt.helpers - cfg.model.encoder.num_heads        : 4\n",
            "2021-07-28 17:35:58,610 - INFO - joeynmt.helpers - cfg.model.encoder.embeddings.embedding_dim : 256\n",
            "2021-07-28 17:35:58,611 - INFO - joeynmt.helpers - cfg.model.encoder.embeddings.scale : True\n",
            "2021-07-28 17:35:58,611 - INFO - joeynmt.helpers - cfg.model.encoder.embeddings.dropout : 0.2\n",
            "2021-07-28 17:35:58,611 - INFO - joeynmt.helpers - cfg.model.encoder.hidden_size      : 256\n",
            "2021-07-28 17:35:58,611 - INFO - joeynmt.helpers - cfg.model.encoder.ff_size          : 1024\n",
            "2021-07-28 17:35:58,611 - INFO - joeynmt.helpers - cfg.model.encoder.dropout          : 0.3\n",
            "2021-07-28 17:35:58,611 - INFO - joeynmt.helpers - cfg.model.decoder.type             : transformer\n",
            "2021-07-28 17:35:58,611 - INFO - joeynmt.helpers - cfg.model.decoder.num_layers       : 6\n",
            "2021-07-28 17:35:58,611 - INFO - joeynmt.helpers - cfg.model.decoder.num_heads        : 4\n",
            "2021-07-28 17:35:58,611 - INFO - joeynmt.helpers - cfg.model.decoder.embeddings.embedding_dim : 256\n",
            "2021-07-28 17:35:58,611 - INFO - joeynmt.helpers - cfg.model.decoder.embeddings.scale : True\n",
            "2021-07-28 17:35:58,611 - INFO - joeynmt.helpers - cfg.model.decoder.embeddings.dropout : 0.2\n",
            "2021-07-28 17:35:58,611 - INFO - joeynmt.helpers - cfg.model.decoder.hidden_size      : 256\n",
            "2021-07-28 17:35:58,611 - INFO - joeynmt.helpers - cfg.model.decoder.ff_size          : 1024\n",
            "2021-07-28 17:35:58,611 - INFO - joeynmt.helpers - cfg.model.decoder.dropout          : 0.3\n",
            "2021-07-28 17:35:58,611 - INFO - joeynmt.helpers - Data set sizes: \n",
            "\ttrain 370216,\n",
            "\tvalid 1000,\n",
            "\ttest 1000\n",
            "2021-07-28 17:35:58,611 - INFO - joeynmt.helpers - First training example:\n",
            "\t[SRC] ▁than k ▁you ▁so ▁much ▁, ▁ch ris ▁.\n",
            "\t[TRG] ▁çok ▁teş ek kür ▁eder im ▁chris ▁.\n",
            "2021-07-28 17:35:58,611 - INFO - joeynmt.helpers - First 10 words (src): (0) <unk> (1) <pad> (2) <s> (3) </s> (4) ▁. (5) ▁, (6) ▁the (7) ▁' (8) ▁and (9) ▁\n",
            "2021-07-28 17:35:58,612 - INFO - joeynmt.helpers - First 10 words (trg): (0) <unk> (1) <pad> (2) <s> (3) </s> (4) ▁. (5) ▁, (6) ▁the (7) ▁' (8) ▁and (9) ▁\n",
            "2021-07-28 17:35:58,612 - INFO - joeynmt.helpers - Number of Src words (types): 9034\n",
            "2021-07-28 17:35:58,612 - INFO - joeynmt.helpers - Number of Trg words (types): 9034\n",
            "2021-07-28 17:35:58,612 - INFO - joeynmt.training - Model(\n",
            "\tencoder=TransformerEncoder(num_layers=6, num_heads=4),\n",
            "\tdecoder=TransformerDecoder(num_layers=6, num_heads=4),\n",
            "\tsrc_embed=Embeddings(embedding_dim=256, vocab_size=9034),\n",
            "\ttrg_embed=Embeddings(embedding_dim=256, vocab_size=9034))\n",
            "2021-07-28 17:35:58,619 - INFO - joeynmt.training - Train stats:\n",
            "\tdevice: cuda\n",
            "\tn_gpu: 1\n",
            "\t16-bits training: False\n",
            "\tgradient accumulation: 1\n",
            "\tbatch size per device: 1028\n",
            "\ttotal batch size (w. parallel & accumulation): 1028\n",
            "2021-07-28 17:35:58,620 - INFO - joeynmt.training - EPOCH 1\n",
            "2021-07-28 17:36:05,528 - INFO - joeynmt.training - Epoch   1, Step:     1100, Batch Loss:     5.201994, Tokens per Sec:     9767, Lr: 0.000300\n",
            "2021-07-28 17:36:11,767 - INFO - joeynmt.training - Epoch   1, Step:     1200, Batch Loss:     4.912281, Tokens per Sec:    10804, Lr: 0.000300\n",
            "2021-07-28 17:36:18,021 - INFO - joeynmt.training - Epoch   1, Step:     1300, Batch Loss:     4.973733, Tokens per Sec:    11041, Lr: 0.000300\n",
            "2021-07-28 17:36:24,255 - INFO - joeynmt.training - Epoch   1, Step:     1400, Batch Loss:     4.809206, Tokens per Sec:    10934, Lr: 0.000300\n",
            "2021-07-28 17:36:30,681 - INFO - joeynmt.training - Epoch   1, Step:     1500, Batch Loss:     4.819091, Tokens per Sec:    10656, Lr: 0.000300\n",
            "2021-07-28 17:36:37,252 - INFO - joeynmt.training - Epoch   1, Step:     1600, Batch Loss:     4.839234, Tokens per Sec:    10245, Lr: 0.000300\n",
            "2021-07-28 17:36:43,827 - INFO - joeynmt.training - Epoch   1, Step:     1700, Batch Loss:     3.323047, Tokens per Sec:    10317, Lr: 0.000300\n",
            "2021-07-28 17:36:50,434 - INFO - joeynmt.training - Epoch   1, Step:     1800, Batch Loss:     4.597960, Tokens per Sec:    10237, Lr: 0.000300\n",
            "2021-07-28 17:36:56,883 - INFO - joeynmt.training - Epoch   1, Step:     1900, Batch Loss:     4.473081, Tokens per Sec:    10245, Lr: 0.000300\n",
            "2021-07-28 17:37:03,243 - INFO - joeynmt.training - Epoch   1, Step:     2000, Batch Loss:     4.721494, Tokens per Sec:    10846, Lr: 0.000300\n",
            "Traceback (most recent call last):\n",
            "  File \"/usr/lib/python3.7/runpy.py\", line 193, in _run_module_as_main\n",
            "    \"__main__\", mod_spec)\n",
            "  File \"/usr/lib/python3.7/runpy.py\", line 85, in _run_code\n",
            "    exec(code, run_globals)\n",
            "  File \"/content/joeynmt/joeynmt/__main__.py\", line 48, in <module>\n",
            "    main()\n",
            "  File \"/content/joeynmt/joeynmt/__main__.py\", line 35, in main\n",
            "    train(cfg_file=args.config_path, skip_test=args.skip_test)\n",
            "  File \"/content/joeynmt/joeynmt/training.py\", line 805, in train\n",
            "    trainer.train_and_validate(train_data=train_data, valid_data=dev_data)\n",
            "  File \"/content/joeynmt/joeynmt/training.py\", line 475, in train_and_validate\n",
            "    valid_duration = self._validate(valid_data, epoch_no)\n",
            "  File \"/content/joeynmt/joeynmt/training.py\", line 563, in _validate\n",
            "    n_gpu=self.n_gpu\n",
            "  File \"/content/joeynmt/joeynmt/prediction.py\", line 125, in validate_on_data\n",
            "    n_best=n_best)\n",
            "  File \"/content/joeynmt/joeynmt/search.py\", line 444, in run_batch\n",
            "    encoder_hidden=encoder_hidden)\n",
            "  File \"/content/joeynmt/joeynmt/search.py\", line 39, in greedy\n",
            "    src_mask, max_output_length, model, encoder_output, encoder_hidden)\n",
            "  File \"/content/joeynmt/joeynmt/search.py\", line 146, in transformer_greedy\n",
            "    trg_mask=trg_mask\n",
            "  File \"/usr/local/lib/python3.7/dist-packages/torch/nn/modules/module.py\", line 889, in _call_impl\n",
            "    result = self.forward(*input, **kwargs)\n",
            "  File \"/content/joeynmt/joeynmt/model.py\", line 104, in forward\n",
            "    outputs, hidden, att_probs, att_vectors = self._decode(**kwargs)\n",
            "  File \"/content/joeynmt/joeynmt/model.py\", line 178, in _decode\n",
            "    **_kwargs)\n",
            "  File \"/usr/local/lib/python3.7/dist-packages/torch/nn/modules/module.py\", line 889, in _call_impl\n",
            "    result = self.forward(*input, **kwargs)\n",
            "  File \"/content/joeynmt/joeynmt/decoders.py\", line 540, in forward\n",
            "    src_mask=src_mask, trg_mask=trg_mask)\n",
            "  File \"/usr/local/lib/python3.7/dist-packages/torch/nn/modules/module.py\", line 889, in _call_impl\n",
            "    result = self.forward(*input, **kwargs)\n",
            "  File \"/content/joeynmt/joeynmt/transformer_layers.py\", line 264, in forward\n",
            "    h1 = self.trg_trg_att(x_norm, x_norm, x_norm, mask=trg_mask)\n",
            "  File \"/usr/local/lib/python3.7/dist-packages/torch/nn/modules/module.py\", line 889, in _call_impl\n",
            "    result = self.forward(*input, **kwargs)\n",
            "  File \"/content/joeynmt/joeynmt/transformer_layers.py\", line 73, in forward\n",
            "    scores = scores.masked_fill(~mask.unsqueeze(1), float('-inf'))\n",
            "KeyboardInterrupt\n"
          ],
          "name": "stdout"
        }
      ]
    },
    {
      "cell_type": "code",
      "metadata": {
        "id": "IFYE2yj1N-di"
      },
      "source": [
        "# Copy the created models from the notebook storage to google drive for persistant storage \n",
        "! mkdir -p \"$gdrive_path/models/${src}${tgt}_transformer_finetune/\"\n",
        "! cp -r joeynmt/models/${src}${tgt}_transformer_finetune/* \"$gdrive_path/models/${src}${tgt}_transformer_finetune/\"\n",
        "\n"
      ],
      "execution_count": null,
      "outputs": []
    },
    {
      "cell_type": "code",
      "metadata": {
        "id": "Jd1_yOXANu3-"
      },
      "source": [
        "# Test again to see how our model improved\n",
        "#! cd joeynmt; python3 -m joeynmt test \"configs/transformer_${src}${tgt}_finetune.yaml\"\n",
        "\n",
        "! cd joeynmt; python3 -m joeynmt test \"$gdrive_path/models/${src}${tgt}_transformer_finetune/config.yaml\""
      ],
      "execution_count": null,
      "outputs": []
    }
  ]
}